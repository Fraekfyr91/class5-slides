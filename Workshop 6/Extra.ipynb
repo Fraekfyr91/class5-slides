{
 "cells": [
  {
   "cell_type": "markdown",
   "id": "9e0ee81b",
   "metadata": {},
   "source": [
    "# Problem set 3 extra assingment using Statistics Denmark's API"
   ]
  },
  {
   "cell_type": "code",
   "execution_count": 1,
   "id": "cf3b1acf",
   "metadata": {},
   "outputs": [],
   "source": [
    "def load_reqs(installs =False):\n",
    "    # Download all required modules\n",
    "    if installs:\n",
    "        !pip install numpy\n",
    "        !pip install matplotlib\n",
    "        !pip install pandas\n",
    "        !pip install ipywidgets\n",
    "        !pip install git+https://github.com/elben10/pydst\n",
    "        import numpy as np"
   ]
  },
  {
   "cell_type": "code",
   "execution_count": 2,
   "id": "b96a3041",
   "metadata": {},
   "outputs": [],
   "source": [
    "load_reqs(installs =False) #Set to True to install modules\n",
    "import matplotlib.pyplot as plt\n",
    "plt.style.use('seaborn-whitegrid')\n",
    "import pandas as pd\n",
    "import ipywidgets as widgets\n",
    "import pydst"
   ]
  },
  {
   "cell_type": "code",
   "execution_count": 3,
   "id": "9f4e4bc8",
   "metadata": {},
   "outputs": [],
   "source": [
    "table_id = 'NAH1' # the table we want"
   ]
  },
  {
   "cell_type": "code",
   "execution_count": 4,
   "id": "943fc5be",
   "metadata": {},
   "outputs": [],
   "source": [
    "Dst = pydst.Dst(lang='en') # setup data loader with the langauge 'english'"
   ]
  },
  {
   "cell_type": "code",
   "execution_count": 5,
   "id": "6b56fa4b",
   "metadata": {},
   "outputs": [
    {
     "data": {
      "text/html": [
       "<div>\n",
       "<style scoped>\n",
       "    .dataframe tbody tr th:only-of-type {\n",
       "        vertical-align: middle;\n",
       "    }\n",
       "\n",
       "    .dataframe tbody tr th {\n",
       "        vertical-align: top;\n",
       "    }\n",
       "\n",
       "    .dataframe thead th {\n",
       "        text-align: right;\n",
       "    }\n",
       "</style>\n",
       "<table border=\"1\" class=\"dataframe\">\n",
       "  <thead>\n",
       "    <tr style=\"text-align: right;\">\n",
       "      <th></th>\n",
       "      <th>TRANSAKT</th>\n",
       "      <th>PRISENHED</th>\n",
       "      <th>TID</th>\n",
       "      <th>INDHOLD</th>\n",
       "    </tr>\n",
       "  </thead>\n",
       "  <tbody>\n",
       "    <tr>\n",
       "      <th>0</th>\n",
       "      <td>P.1 Output</td>\n",
       "      <td>Current prices</td>\n",
       "      <td>1966</td>\n",
       "      <td>144582</td>\n",
       "    </tr>\n",
       "  </tbody>\n",
       "</table>\n",
       "</div>"
      ],
      "text/plain": [
       "     TRANSAKT       PRISENHED   TID  INDHOLD\n",
       "0  P.1 Output  Current prices  1966   144582"
      ]
     },
     "execution_count": 5,
     "metadata": {},
     "output_type": "execute_result"
    }
   ],
   "source": [
    "Dst.get_data(table_id = table_id, variables=None) # inspect the table "
   ]
  },
  {
   "cell_type": "code",
   "execution_count": 6,
   "id": "b1a0368e",
   "metadata": {},
   "outputs": [
    {
     "data": {
      "text/html": [
       "<div>\n",
       "<style scoped>\n",
       "    .dataframe tbody tr th:only-of-type {\n",
       "        vertical-align: middle;\n",
       "    }\n",
       "\n",
       "    .dataframe tbody tr th {\n",
       "        vertical-align: top;\n",
       "    }\n",
       "\n",
       "    .dataframe thead th {\n",
       "        text-align: right;\n",
       "    }\n",
       "</style>\n",
       "<table border=\"1\" class=\"dataframe\">\n",
       "  <thead>\n",
       "    <tr style=\"text-align: right;\">\n",
       "      <th></th>\n",
       "      <th>TRANSAKT</th>\n",
       "      <th>PRISENHED</th>\n",
       "      <th>TID</th>\n",
       "      <th>INDHOLD</th>\n",
       "    </tr>\n",
       "  </thead>\n",
       "  <tbody>\n",
       "    <tr>\n",
       "      <th>1620</th>\n",
       "      <td>D.21 Taxes on products</td>\n",
       "      <td>2010-prices, chained values</td>\n",
       "      <td>1966</td>\n",
       "      <td>98704</td>\n",
       "    </tr>\n",
       "    <tr>\n",
       "      <th>3120</th>\n",
       "      <td>D.21 Taxes on products</td>\n",
       "      <td>2010-prices, chained values</td>\n",
       "      <td>1967</td>\n",
       "      <td>113353</td>\n",
       "    </tr>\n",
       "    <tr>\n",
       "      <th>1260</th>\n",
       "      <td>D.21 Taxes on products</td>\n",
       "      <td>2010-prices, chained values</td>\n",
       "      <td>1968</td>\n",
       "      <td>121454</td>\n",
       "    </tr>\n",
       "    <tr>\n",
       "      <th>1320</th>\n",
       "      <td>D.21 Taxes on products</td>\n",
       "      <td>2010-prices, chained values</td>\n",
       "      <td>1969</td>\n",
       "      <td>128779</td>\n",
       "    </tr>\n",
       "    <tr>\n",
       "      <th>1680</th>\n",
       "      <td>D.21 Taxes on products</td>\n",
       "      <td>2010-prices, chained values</td>\n",
       "      <td>1970</td>\n",
       "      <td>131471</td>\n",
       "    </tr>\n",
       "    <tr>\n",
       "      <th>...</th>\n",
       "      <td>...</td>\n",
       "      <td>...</td>\n",
       "      <td>...</td>\n",
       "      <td>...</td>\n",
       "    </tr>\n",
       "    <tr>\n",
       "      <th>1259</th>\n",
       "      <td>Uses</td>\n",
       "      <td>Current prices</td>\n",
       "      <td>2017</td>\n",
       "      <td>5157887</td>\n",
       "    </tr>\n",
       "    <tr>\n",
       "      <th>2219</th>\n",
       "      <td>Uses</td>\n",
       "      <td>Current prices</td>\n",
       "      <td>2018</td>\n",
       "      <td>5391323</td>\n",
       "    </tr>\n",
       "    <tr>\n",
       "      <th>119</th>\n",
       "      <td>Uses</td>\n",
       "      <td>Current prices</td>\n",
       "      <td>2019</td>\n",
       "      <td>5576012</td>\n",
       "    </tr>\n",
       "    <tr>\n",
       "      <th>1619</th>\n",
       "      <td>Uses</td>\n",
       "      <td>Current prices</td>\n",
       "      <td>2020</td>\n",
       "      <td>5453676</td>\n",
       "    </tr>\n",
       "    <tr>\n",
       "      <th>2939</th>\n",
       "      <td>Uses</td>\n",
       "      <td>Current prices</td>\n",
       "      <td>2021</td>\n",
       "      <td>6049230</td>\n",
       "    </tr>\n",
       "  </tbody>\n",
       "</table>\n",
       "<p>3360 rows × 4 columns</p>\n",
       "</div>"
      ],
      "text/plain": [
       "                    TRANSAKT                    PRISENHED   TID  INDHOLD\n",
       "1620  D.21 Taxes on products  2010-prices, chained values  1966    98704\n",
       "3120  D.21 Taxes on products  2010-prices, chained values  1967   113353\n",
       "1260  D.21 Taxes on products  2010-prices, chained values  1968   121454\n",
       "1320  D.21 Taxes on products  2010-prices, chained values  1969   128779\n",
       "1680  D.21 Taxes on products  2010-prices, chained values  1970   131471\n",
       "...                      ...                          ...   ...      ...\n",
       "1259                    Uses               Current prices  2017  5157887\n",
       "2219                    Uses               Current prices  2018  5391323\n",
       "119                     Uses               Current prices  2019  5576012\n",
       "1619                    Uses               Current prices  2020  5453676\n",
       "2939                    Uses               Current prices  2021  6049230\n",
       "\n",
       "[3360 rows x 4 columns]"
      ]
     },
     "execution_count": 6,
     "metadata": {},
     "output_type": "execute_result"
    }
   ],
   "source": [
    "variables = {'TRANSAKT':['*'],'PRISENHED':['*'],'TID':['*']} # specify the variables ['*'] is all values\n",
    "api = Dst.get_data(table_id = table_id, variables=variables) # get the table\n",
    "api.sort_values(by=['TRANSAKT', 'PRISENHED', 'TID'], inplace=True) # sort the table\n",
    "api # display the table"
   ]
  },
  {
   "cell_type": "code",
   "execution_count": 7,
   "id": "4eaaff45",
   "metadata": {},
   "outputs": [],
   "source": [
    "def subset(df, price):\n",
    "    '''\n",
    "    Subsets and clean the api table\n",
    "    \n",
    "    Args:\n",
    "        df (PandasDataframe): Sorted api dataframe with TRANSAKT, PRISENHED (price unit), TID (time), INDHOLD (values)\n",
    "        price (string): Selected PRISENHED (price unit)\n",
    "    Returns:\n",
    "        clean dataframe ready to plot\n",
    "    '''\n",
    "    \n",
    "    #Creating dictionary to rename columns\n",
    "    rename_dict = {} \n",
    "    rename_dict['P.1 Output'] = 'Y'\n",
    "    rename_dict['P.3 Final consumption expenditure'] = 'C'\n",
    "    rename_dict['P.3 Government consumption expenditure'] = 'G'\n",
    "    rename_dict['P.5 Gross capital formation'] = 'I'\n",
    "    rename_dict['P.6 Export of goods and services'] = 'X'\n",
    "    rename_dict['P.7 Import of goods and services'] = 'M'\n",
    "    \n",
    "    sub_df = df[df[\"PRISENHED\"] == price] # subset the dataframe\n",
    "    selected = list(rename_dict.keys()) #list the keys in the rename dict \n",
    "    sub_df = sub_df[sub_df.TRANSAKT.isin(selected)] # select the columns from the selected list\n",
    "    sub_df =sub_df.pivot(index='TID', columns='TRANSAKT', values='INDHOLD') # pivot the table with TID (time) as index\n",
    "    sub_df.rename(columns=rename_dict,inplace=True) #remane columns with rename dict\n",
    "    sub_df['year'] = sub_df.index # create a colum named year, by the index value\n",
    "    sub_df.index = pd.RangeIndex(start=0, stop=sub_df.shape[0], step=1) # set new index as the range from 0 to the amount of columns\n",
    "    \n",
    "    return sub_df"
   ]
  },
  {
   "cell_type": "code",
   "execution_count": 8,
   "id": "e8610b46",
   "metadata": {},
   "outputs": [],
   "source": [
    "def _plot_timeseries(dataframe, variable, years, price_var):\n",
    "    dataframe = subset(dataframe, price_var)\n",
    "    fig = plt.figure(dpi=100)\n",
    "    ax = fig.add_subplot(1,1,1)\n",
    "    dataframe = dataframe.apply(pd.to_numeric) # All values to numeric\n",
    "    \n",
    "    I = (dataframe['year'] >= years[0]) & (dataframe['year'] <= years[1])\n",
    "    \n",
    "    x = dataframe.loc[I,'year']\n",
    "    y = dataframe.loc[I,variable]\n",
    "    ax.plot(x,y)\n",
    "    \n",
    "    ax.set_xticks(list(range(years[0], years[1] + 1, 2)))    \n",
    "    ax.set_ylabel(f'{variable}: {price_var}') # creating y label, look how it changes, nice :)\n",
    "    ax.set_xticklabels(ax.get_xticks(), rotation = 50) # rotating x ticks \n",
    "def plot_timeseries(dataframe):\n",
    "    \n",
    "    widgets.interact(_plot_timeseries, \n",
    "    dataframe = widgets.fixed(dataframe),   \n",
    "    price_var = widgets.Dropdown(\n",
    "        description='Price variable', \n",
    "        options= ['Current prices','2010-prices, chained values'], \n",
    "        value='2010-prices, chained values'),\n",
    "                     \n",
    "    variable = widgets.Dropdown(\n",
    "        description='variable', \n",
    "        options=['Y','C','G','I','X','M'], \n",
    "        value='Y'),\n",
    "    years=widgets.IntRangeSlider(\n",
    "        description=\"years\",\n",
    "        min=1966,\n",
    "        max=2018,\n",
    "        value=[1980, 2018],\n",
    "        continuous_update=False,\n",
    "    \n",
    "    )                 \n",
    "); "
   ]
  },
  {
   "cell_type": "code",
   "execution_count": 9,
   "id": "bead3721",
   "metadata": {},
   "outputs": [
    {
     "data": {
      "application/vnd.jupyter.widget-view+json": {
       "model_id": "e102393448c94fc591a06afb960a5e8a",
       "version_major": 2,
       "version_minor": 0
      },
      "text/plain": [
       "interactive(children=(Dropdown(description='variable', options=('Y', 'C', 'G', 'I', 'X', 'M'), value='Y'), Int…"
      ]
     },
     "metadata": {},
     "output_type": "display_data"
    }
   ],
   "source": [
    "plot_timeseries(api)"
   ]
  },
  {
   "cell_type": "code",
   "execution_count": null,
   "id": "228ac749",
   "metadata": {},
   "outputs": [],
   "source": []
  }
 ],
 "metadata": {
  "kernelspec": {
   "display_name": "Python 3 (ipykernel)",
   "language": "python",
   "name": "python3"
  },
  "language_info": {
   "codemirror_mode": {
    "name": "ipython",
    "version": 3
   },
   "file_extension": ".py",
   "mimetype": "text/x-python",
   "name": "python",
   "nbconvert_exporter": "python",
   "pygments_lexer": "ipython3",
   "version": "3.9.7"
  }
 },
 "nbformat": 4,
 "nbformat_minor": 5
}
