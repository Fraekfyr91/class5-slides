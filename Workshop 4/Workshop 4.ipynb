{
 "cells": [
  {
   "cell_type": "markdown",
   "id": "7e62a15a",
   "metadata": {
    "slideshow": {
     "slide_type": "slide"
    }
   },
   "source": [
    "# Welcome to Workshop 4"
   ]
  },
  {
   "cell_type": "markdown",
   "id": "3a02edf8",
   "metadata": {
    "slideshow": {
     "slide_type": "slide"
    }
   },
   "source": [
    "# Today's Plan\n",
    "\n",
    "- Work flow\n",
    "- f-strings\n",
    "- Documentation\n",
    "- Optimizers\n",
    "- Classes\n",
    "- Exercise set 1"
   ]
  },
  {
   "cell_type": "markdown",
   "id": "e33b203b",
   "metadata": {
    "slideshow": {
     "slide_type": "slide"
    }
   },
   "source": [
    "# Work flow\n",
    "## Avoid overwriting your own work and merge conflicts\n",
    "1. Create copies of everything you work on yourself\n",
    "1. Put copies into seperate folders\n",
    "\n",
    "## Create and import modules for functions!\n",
    "1. Create a python file (.py)\n",
    "1. Save it in the same folder as your python notebook file (.ipynb)\n",
    "1. Use import statement to use the modules\n",
    "\n",
    "## Restart the kernel and re-run the whole notebook frequently!!"
   ]
  },
  {
   "cell_type": "code",
   "execution_count": 1,
   "id": "122dd9b1",
   "metadata": {
    "slideshow": {
     "slide_type": "fragment"
    }
   },
   "outputs": [],
   "source": [
    "import matplotlib.pyplot as plt\n",
    "import numpy as np\n",
    "\n",
    " "
   ]
  },
  {
   "cell_type": "markdown",
   "id": "2edca843",
   "metadata": {
    "slideshow": {
     "slide_type": "slide"
    }
   },
   "source": [
    "# f-strings\n",
    "\n",
    "- Strings that combines text format and a variable\n",
    "- print(f' text part here { variable_here }' )\n",
    "- :.2f round to 2 decimals"
   ]
  },
  {
   "cell_type": "code",
   "execution_count": 2,
   "id": "09c96459",
   "metadata": {
    "slideshow": {
     "slide_type": "slide"
    }
   },
   "outputs": [
    {
     "name": "stdout",
     "output_type": "stream",
     "text": [
      " text part here 3.14\n"
     ]
    }
   ],
   "source": [
    "variable_here = np.pi\n",
    "print(f' text part here { variable_here:.2f}' )\n",
    "\n"
   ]
  },
  {
   "cell_type": "markdown",
   "id": "279258c8",
   "metadata": {
    "slideshow": {
     "slide_type": "slide"
    }
   },
   "source": [
    "# Documentation\n",
    "- '''  doc strings  '''\n",
    "- \\# comments\n"
   ]
  },
  {
   "cell_type": "markdown",
   "id": "45f73ca0",
   "metadata": {
    "slideshow": {
     "slide_type": "fragment"
    }
   },
   "source": [
    "## Example function:\n",
    "\n",
    "$$f(x) = sin(x)+0.05*x^2$$"
   ]
  },
  {
   "cell_type": "code",
   "execution_count": 3,
   "id": "d40d9ed7",
   "metadata": {
    "slideshow": {
     "slide_type": "fragment"
    }
   },
   "outputs": [],
   "source": [
    "def f(x):\n",
    "    \"\"\"\n",
    "    Defines an equation.\n",
    "    \n",
    "    Args:\n",
    "    x (list): list of variable arrays\n",
    "    \n",
    "    Returns:\n",
    "    eq_1 (scalar): Function value\n",
    "    \"\"\"\n",
    "    if len(x)==0: \n",
    "        raise ValueError (\"No variables defined\")\n",
    "    elif len(x)==1: # to ensure input is valid - in this case only 1 allowed\n",
    "        eq_1 = np.sin(x[0])+0.05*x[0]**2 \n",
    "        return eq_1\n",
    "    elif len(x)==2: # to ensure input is valid - in this case only 2 variables allowed\n",
    "        eq_1 = np.sin(x[0])+0.05*x[1]**2 \n",
    "        return eq_1\n",
    "    elif len(x)>2: \n",
    "        raise ValueError (\"Too many variables defined\")"
   ]
  },
  {
   "cell_type": "markdown",
   "id": "a8f9f684",
   "metadata": {
    "slideshow": {
     "slide_type": "slide"
    }
   },
   "source": [
    "# Optimizers\n"
   ]
  },
  {
   "cell_type": "markdown",
   "id": "a5ddade7",
   "metadata": {
    "slideshow": {
     "slide_type": "slide"
    }
   },
   "source": [
    "\n",
    "\n",
    "# Whats going on under the hood?\n",
    "- Largely depends on the method used!  \n",
    "- Nelder-Mead is a downhill method, <br>\n",
    "  whereas other algorithm use a lagrangian method to incoorporate constraints <br>\n",
    "  e.g. consumer budget constraint\n",
    "- Gif shows the Nelder-Mead method \n",
    "\n",
    "<img src=\"nelder-mead.gif\" style=\"float:\">"
   ]
  },
  {
   "cell_type": "markdown",
   "id": "747ebe51",
   "metadata": {
    "slideshow": {
     "slide_type": "slide"
    }
   },
   "source": [
    "# Generate Data"
   ]
  },
  {
   "cell_type": "code",
   "execution_count": 4,
   "id": "4b8b270f",
   "metadata": {
    "slideshow": {
     "slide_type": "fragment"
    }
   },
   "outputs": [],
   "source": [
    "N=100 # specify the number of grid point\n",
    "x1_vec = np.linspace(-10,10,N) # draw N=100 evenly spaced numbers between -10 and 10\n",
    "x = [x1_vec] #because function takes a list of arrays\n",
    "\n",
    "\n"
   ]
  },
  {
   "cell_type": "code",
   "execution_count": 5,
   "id": "c49017cc",
   "metadata": {
    "slideshow": {
     "slide_type": "slide"
    }
   },
   "outputs": [
    {
     "name": "stdout",
     "output_type": "stream",
     "text": [
      "-----------\n",
      "Optimization terminated successfully.\n",
      "-----------\n",
      "Using numerical solver the optimal values are:\n",
      "Function = 1.7911;  x1 = -7.0689\n"
     ]
    }
   ],
   "source": [
    "# a. using scipy optmize\n",
    "from scipy import optimize\n",
    "\n",
    "x_guess = -10 # optimizer needs a starting point for the two values     \n",
    "obj = lambda x:f(x) #objective function to optimize - in this case minimize\n",
    "\n",
    "#b.optimizing objective function \n",
    "res = optimize.minimize(obj,x_guess,method=\"Nelder-Mead\") #Nelder-mead is standard and simple method\n",
    "print(\"-----------\")\n",
    "print(res.message)\n",
    "print(\"-----------\")\n",
    "\n",
    "#c.unpacking results\n",
    "x1_best_scipy = res.x[0]\n",
    "f_best_scipy = res.fun\n",
    "\n",
    "# d. print\n",
    "print(f'Using numerical solver the optimal values are:')\n",
    "print(f'Function = {f_best_scipy.item():.4f};  x1 = {x1_best_scipy:.4f}')"
   ]
  },
  {
   "cell_type": "code",
   "execution_count": 6,
   "id": "5851791d",
   "metadata": {
    "slideshow": {
     "slide_type": "fragment"
    }
   },
   "outputs": [
    {
     "name": "stdout",
     "output_type": "stream",
     "text": [
      "[-7.06890869140625, 1.7911367947305687]\n"
     ]
    }
   ],
   "source": [
    "opt = [x1_best_scipy,f_best_scipy.item()] # x1 and x2 in a list\n",
    "print(opt)"
   ]
  },
  {
   "cell_type": "code",
   "execution_count": 7,
   "id": "619055c7",
   "metadata": {
    "slideshow": {
     "slide_type": "slide"
    }
   },
   "outputs": [],
   "source": [
    "def twod_plot(x1_vec, opt):\n",
    "    \"\"\"\n",
    "    Plots graph\n",
    "    \n",
    "    Args:\n",
    "    x1_vec (numpy.ndarray): vector with values to plot\n",
    "    \n",
    "    Returns:\n",
    "    eq_1 (scalar): Function value\n",
    "    \"\"\"\n",
    "    fig = plt.figure(figsize=(10,5)) # define new figure object\n",
    "    ax = fig.add_subplot(111) # add subplot\n",
    "    ax.plot(x1_vec,f([x1_vec])) # plot 2-dimensional function\n",
    "    ax.plot(opt[0], opt[1], 'ro')\n",
    "    ax.text(opt[0] - 2, opt[1] + 0.5, f'Minimum is ({opt[0]:.3f}, {opt[1]:.3f})')\n",
    "    #add lines\n",
    "    for y in range(-1, 6):    \n",
    "        plt.plot(range(-10,11), [y] * len(range(-10, 11)), \"--\", lw=0.5, color=\"black\", alpha=0.3)\n",
    "\n",
    "    ax.xaxis.label.set_fontsize(14) #set label fontsize to 14\n",
    "    ax.yaxis.label.set_fontsize(14)\n",
    "    ax.set(xlabel=\"$x_1$\", ylabel = \"$f(x_1)$\",xlim = ([-10,10])) #set xlabel,ylabel and xlimit\n",
    "    for item in ax.get_yticklabels()+ax.get_xticklabels(): # set ticklabels to fontsize 14\n",
    "        item.set_fontsize(14)\n",
    "\n",
    "    #remove borders\n",
    "    ax.spines['top'].set_visible(False)\n",
    "    ax.spines['right'].set_visible(False)\n",
    "    ax.spines['left'].set_visible(False)\n",
    "    ax.spines['bottom'].set_visible(False)\n",
    "    "
   ]
  },
  {
   "cell_type": "code",
   "execution_count": 8,
   "id": "d4f47cc5",
   "metadata": {
    "slideshow": {
     "slide_type": "fragment"
    }
   },
   "outputs": [
    {
     "data": {
      "image/png": "[encoded data removed]",
      "text/plain": [
       "<Figure size 720x360 with 1 Axes>"
      ]
     },
     "metadata": {
      "needs_background": "light"
     },
     "output_type": "display_data"
    }
   ],
   "source": [
    "twod_plot(x1_vec, opt)\n",
    "\n"
   ]
  },
  {
   "cell_type": "markdown",
   "id": "489f4af5",
   "metadata": {
    "slideshow": {
     "slide_type": "slide"
    }
   },
   "source": [
    "\n",
    "\n",
    "\n",
    "# Classes "
   ]
  },
  {
   "cell_type": "code",
   "execution_count": 9,
   "id": "629deaef",
   "metadata": {
    "slideshow": {
     "slide_type": "fragment"
    }
   },
   "outputs": [],
   "source": [
    "import optimum\n",
    "\n"
   ]
  },
  {
   "cell_type": "code",
   "execution_count": 10,
   "id": "f5912986",
   "metadata": {
    "scrolled": true,
    "slideshow": {
     "slide_type": "slide"
    }
   },
   "outputs": [
    {
     "name": "stdout",
     "output_type": "stream",
     "text": [
      "-----------\n",
      "Optimization terminated successfully.\n",
      "-----------\n",
      "Using numerical solver the optimal values are:\n",
      "Function = -0.8879;  x1 = -1.4276\n"
     ]
    }
   ],
   "source": [
    "model = optimum.optimum(N=1000, guess= -0)\n",
    "opt = model.solve(disp = True)\n",
    "\n"
   ]
  },
  {
   "cell_type": "code",
   "execution_count": 11,
   "id": "92f8abb9",
   "metadata": {
    "slideshow": {
     "slide_type": "fragment"
    }
   },
   "outputs": [
    {
     "data": {
      "image/png": "[encoded data removed]",
      "text/plain": [
       "<Figure size 720x360 with 1 Axes>"
      ]
     },
     "metadata": {
      "needs_background": "light"
     },
     "output_type": "display_data"
    }
   ],
   "source": [
    "model.twod_plot(opt)\n",
    "\n"
   ]
  },
  {
   "cell_type": "markdown",
   "id": "f62e56c6",
   "metadata": {
    "slideshow": {
     "slide_type": "slide"
    }
   },
   "source": [
    "# Exercise 1"
   ]
  }
 ],
 "metadata": {
  "celltoolbar": "Slideshow",
  "kernelspec": {
   "display_name": "Python 3 (ipykernel)",
   "language": "python",
   "name": "python3"
  },
  "language_info": {
   "codemirror_mode": {
    "name": "ipython",
    "version": 3
   },
   "file_extension": ".py",
   "mimetype": "text/x-python",
   "name": "python",
   "nbconvert_exporter": "python",
   "pygments_lexer": "ipython3",
   "version": "3.9.7"
  }
 },
 "nbformat": 4,
 "nbformat_minor": 5
}
