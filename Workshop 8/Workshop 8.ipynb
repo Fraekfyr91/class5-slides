{
 "cells": [
  {
   "cell_type": "markdown",
   "id": "c5bdef11",
   "metadata": {
    "slideshow": {
     "slide_type": "slide"
    }
   },
   "source": [
    "# Workshop 8"
   ]
  },
  {
   "cell_type": "markdown",
   "id": "e9128ab3",
   "metadata": {
    "slideshow": {
     "slide_type": "fragment"
    }
   },
   "source": [
    "# Data Project!"
   ]
  },
  {
   "cell_type": "markdown",
   "id": "6f255aca",
   "metadata": {
    "slideshow": {
     "slide_type": "slide"
    }
   },
   "source": [
    "# Repository structure\n",
    "- clean your folders\n",
    "- write a README.md\n",
    "- .py files for functions\n",
    "\n",
    "# Example"
   ]
  },
  {
   "cell_type": "markdown",
   "id": "a6db876e",
   "metadata": {
    "slideshow": {
     "slide_type": "slide"
    }
   },
   "source": [
    "# The good dataproject\n",
    "- Remember the structure\n",
    "- Creative use of data\n",
    "- Tell a story!\n",
    "\n"
   ]
  },
  {
   "cell_type": "markdown",
   "id": "ae27f604",
   "metadata": {
    "slideshow": {
     "slide_type": "slide"
    }
   },
   "source": [
    "<img src=\"lego_pic.png\" style=\"float:center\">"
   ]
  },
  {
   "cell_type": "markdown",
   "id": "c754337f",
   "metadata": {
    "slideshow": {
     "slide_type": "slide"
    }
   },
   "source": [
    "# Can you see a data set without trying to regress stuff?!\n",
    "## I have made an example"
   ]
  },
  {
   "cell_type": "code",
   "execution_count": 1,
   "id": "3a678b59",
   "metadata": {
    "slideshow": {
     "slide_type": "slide"
    }
   },
   "outputs": [],
   "source": [
    "import numpy as np \n",
    "from numpy import linalg as la\n",
    "import requests\n",
    "import pandas as pd\n",
    "import io\n",
    "\n"
   ]
  },
  {
   "cell_type": "code",
   "execution_count": 2,
   "id": "6e2bd005",
   "metadata": {
    "slideshow": {
     "slide_type": "slide"
    }
   },
   "outputs": [],
   "source": [
    "def estimate( \n",
    "        y: np.array, x: np.array, t: int=None, robust_se = True\n",
    "    ) -> list:\n",
    "    \"\"\"Uses the provided estimator to perform a regression of y on x, \n",
    "    and provides all other necessary statistics such as standard errors, \n",
    "    t-values etc.  \n",
    "\n",
    "    Args:\n",
    "        >> y (np.array): Dependent variable (Needs to have shape 2D shape)\n",
    "        >> x (np.array): Independent variable (Needs to have shape 2D shape)\n",
    "        >> t (int, optional): If panel data, t is the number of time periods in\n",
    "        the panel, and is used for estimating the variance. Defaults to None.\n",
    "\n",
    "    Returns:\n",
    "        list: Returns a dictionary with the following variables:\n",
    "        'b_hat', 'se', 'sigma2', 't_values', 'R2', 'cov'\n",
    "    \"\"\"\n",
    "    \n",
    "    b_hat = la.inv(x.T@x)@(x.T@y)  # Estimated coefficients\n",
    "    \n",
    "    residual = y - x@b_hat  # Calculated residuals\n",
    "    \n",
    "    SSR = residual.T@residual  # Sum of squared residuals\n",
    "    \n",
    "    SST = (y - np.mean(y)).T@(y - np.mean(y))  # Total sum of squares\n",
    "    \n",
    "    R2 = 1 - SSR/SST # R squared\n",
    "\n",
    "    k = x.shape[1] # cols\n",
    "    n = x.shape[0] # rows\n",
    "\n",
    "    # Calculate sigma2\n",
    "    sigma2 = (np.array(SSR/(n - k)))\n",
    "\n",
    "   \n",
    "    if robust_se:\n",
    "        # If only cross sectinoal, we can easiily use the diagonal.\n",
    "        if not t:\n",
    "            uhat2 = residual * residual # Uhat squared\n",
    "            diag = np.diag(uhat2.reshape(-1, )) # reshape u hat squared\n",
    "            cov = la.inv(x.T@x) @ (x.T@diag@x) @ la.inv(x.T@x) # calculate covariance\n",
    "    \n",
    "        # Else we loop over each individual.\n",
    "        else:\n",
    "            n = int(residual.size / t)  # res size over time periods \n",
    "            k = x.shape[1] # cols\n",
    "            diag = np.zeros((k, k)) # init diagonal calc\n",
    "            for i in range(0, n*t, t):\n",
    "                slice_obj = slice(i, i + t) # slicing i to i + time \n",
    "                uhat2 = residual[slice_obj]@residual[slice_obj].T # calculation u hat squared\n",
    "                diag += x[slice_obj].T @ uhat2 @ x[slice_obj] #adding to diagonal\n",
    "            cov = la.inv(x.T@x)@(diag)@la.inv(x.T@x) # covariance\n",
    "\n",
    "        se = np.sqrt(np.diag(cov)).reshape(-1, 1) # standard error\n",
    "    else:\n",
    "        cov = sigma2*la.inv(x.T@x) # covariance\n",
    "        se = np.sqrt(cov.diagonal()).reshape(-1, 1) # standard errors\n",
    "        \n",
    "    \n",
    "    t_values = b_hat/se # t-vals\n",
    "    \n",
    "    names = ['b_hat', 'se', 'sigma2', 't_values', 'R2', 'cov'] \n",
    "    results = [b_hat, se, sigma2, t_values, R2, cov]\n",
    "    return dict(zip(names, results)) \n"
   ]
  },
  {
   "cell_type": "code",
   "execution_count": 3,
   "id": "5827faee",
   "metadata": {
    "slideshow": {
     "slide_type": "slide"
    }
   },
   "outputs": [
    {
     "data": {
      "text/html": [
       "<div>\n",
       "<style scoped>\n",
       "    .dataframe tbody tr th:only-of-type {\n",
       "        vertical-align: middle;\n",
       "    }\n",
       "\n",
       "    .dataframe tbody tr th {\n",
       "        vertical-align: top;\n",
       "    }\n",
       "\n",
       "    .dataframe thead th {\n",
       "        text-align: right;\n",
       "    }\n",
       "</style>\n",
       "<table border=\"1\" class=\"dataframe\">\n",
       "  <thead>\n",
       "    <tr style=\"text-align: right;\">\n",
       "      <th></th>\n",
       "      <th>PassengerId</th>\n",
       "      <th>Survived</th>\n",
       "      <th>Pclass</th>\n",
       "      <th>Name</th>\n",
       "      <th>Sex</th>\n",
       "      <th>Age</th>\n",
       "      <th>SibSp</th>\n",
       "      <th>Parch</th>\n",
       "      <th>Ticket</th>\n",
       "      <th>Fare</th>\n",
       "      <th>Cabin</th>\n",
       "      <th>Embarked</th>\n",
       "    </tr>\n",
       "  </thead>\n",
       "  <tbody>\n",
       "    <tr>\n",
       "      <th>0</th>\n",
       "      <td>1</td>\n",
       "      <td>0</td>\n",
       "      <td>3</td>\n",
       "      <td>Braund, Mr. Owen Harris</td>\n",
       "      <td>male</td>\n",
       "      <td>22.0</td>\n",
       "      <td>1</td>\n",
       "      <td>0</td>\n",
       "      <td>A/5 21171</td>\n",
       "      <td>7.2500</td>\n",
       "      <td>NaN</td>\n",
       "      <td>S</td>\n",
       "    </tr>\n",
       "    <tr>\n",
       "      <th>1</th>\n",
       "      <td>2</td>\n",
       "      <td>1</td>\n",
       "      <td>1</td>\n",
       "      <td>Cumings, Mrs. John Bradley (Florence Briggs Th...</td>\n",
       "      <td>female</td>\n",
       "      <td>38.0</td>\n",
       "      <td>1</td>\n",
       "      <td>0</td>\n",
       "      <td>PC 17599</td>\n",
       "      <td>71.2833</td>\n",
       "      <td>C85</td>\n",
       "      <td>C</td>\n",
       "    </tr>\n",
       "    <tr>\n",
       "      <th>2</th>\n",
       "      <td>3</td>\n",
       "      <td>1</td>\n",
       "      <td>3</td>\n",
       "      <td>Heikkinen, Miss. Laina</td>\n",
       "      <td>female</td>\n",
       "      <td>26.0</td>\n",
       "      <td>0</td>\n",
       "      <td>0</td>\n",
       "      <td>STON/O2. 3101282</td>\n",
       "      <td>7.9250</td>\n",
       "      <td>NaN</td>\n",
       "      <td>S</td>\n",
       "    </tr>\n",
       "    <tr>\n",
       "      <th>3</th>\n",
       "      <td>4</td>\n",
       "      <td>1</td>\n",
       "      <td>1</td>\n",
       "      <td>Futrelle, Mrs. Jacques Heath (Lily May Peel)</td>\n",
       "      <td>female</td>\n",
       "      <td>35.0</td>\n",
       "      <td>1</td>\n",
       "      <td>0</td>\n",
       "      <td>113803</td>\n",
       "      <td>53.1000</td>\n",
       "      <td>C123</td>\n",
       "      <td>S</td>\n",
       "    </tr>\n",
       "    <tr>\n",
       "      <th>4</th>\n",
       "      <td>5</td>\n",
       "      <td>0</td>\n",
       "      <td>3</td>\n",
       "      <td>Allen, Mr. William Henry</td>\n",
       "      <td>male</td>\n",
       "      <td>35.0</td>\n",
       "      <td>0</td>\n",
       "      <td>0</td>\n",
       "      <td>373450</td>\n",
       "      <td>8.0500</td>\n",
       "      <td>NaN</td>\n",
       "      <td>S</td>\n",
       "    </tr>\n",
       "    <tr>\n",
       "      <th>...</th>\n",
       "      <td>...</td>\n",
       "      <td>...</td>\n",
       "      <td>...</td>\n",
       "      <td>...</td>\n",
       "      <td>...</td>\n",
       "      <td>...</td>\n",
       "      <td>...</td>\n",
       "      <td>...</td>\n",
       "      <td>...</td>\n",
       "      <td>...</td>\n",
       "      <td>...</td>\n",
       "      <td>...</td>\n",
       "    </tr>\n",
       "    <tr>\n",
       "      <th>886</th>\n",
       "      <td>887</td>\n",
       "      <td>0</td>\n",
       "      <td>2</td>\n",
       "      <td>Montvila, Rev. Juozas</td>\n",
       "      <td>male</td>\n",
       "      <td>27.0</td>\n",
       "      <td>0</td>\n",
       "      <td>0</td>\n",
       "      <td>211536</td>\n",
       "      <td>13.0000</td>\n",
       "      <td>NaN</td>\n",
       "      <td>S</td>\n",
       "    </tr>\n",
       "    <tr>\n",
       "      <th>887</th>\n",
       "      <td>888</td>\n",
       "      <td>1</td>\n",
       "      <td>1</td>\n",
       "      <td>Graham, Miss. Margaret Edith</td>\n",
       "      <td>female</td>\n",
       "      <td>19.0</td>\n",
       "      <td>0</td>\n",
       "      <td>0</td>\n",
       "      <td>112053</td>\n",
       "      <td>30.0000</td>\n",
       "      <td>B42</td>\n",
       "      <td>S</td>\n",
       "    </tr>\n",
       "    <tr>\n",
       "      <th>888</th>\n",
       "      <td>889</td>\n",
       "      <td>0</td>\n",
       "      <td>3</td>\n",
       "      <td>Johnston, Miss. Catherine Helen \"Carrie\"</td>\n",
       "      <td>female</td>\n",
       "      <td>NaN</td>\n",
       "      <td>1</td>\n",
       "      <td>2</td>\n",
       "      <td>W./C. 6607</td>\n",
       "      <td>23.4500</td>\n",
       "      <td>NaN</td>\n",
       "      <td>S</td>\n",
       "    </tr>\n",
       "    <tr>\n",
       "      <th>889</th>\n",
       "      <td>890</td>\n",
       "      <td>1</td>\n",
       "      <td>1</td>\n",
       "      <td>Behr, Mr. Karl Howell</td>\n",
       "      <td>male</td>\n",
       "      <td>26.0</td>\n",
       "      <td>0</td>\n",
       "      <td>0</td>\n",
       "      <td>111369</td>\n",
       "      <td>30.0000</td>\n",
       "      <td>C148</td>\n",
       "      <td>C</td>\n",
       "    </tr>\n",
       "    <tr>\n",
       "      <th>890</th>\n",
       "      <td>891</td>\n",
       "      <td>0</td>\n",
       "      <td>3</td>\n",
       "      <td>Dooley, Mr. Patrick</td>\n",
       "      <td>male</td>\n",
       "      <td>32.0</td>\n",
       "      <td>0</td>\n",
       "      <td>0</td>\n",
       "      <td>370376</td>\n",
       "      <td>7.7500</td>\n",
       "      <td>NaN</td>\n",
       "      <td>Q</td>\n",
       "    </tr>\n",
       "  </tbody>\n",
       "</table>\n",
       "<p>891 rows × 12 columns</p>\n",
       "</div>"
      ],
      "text/plain": [
       "     PassengerId  Survived  Pclass  \\\n",
       "0              1         0       3   \n",
       "1              2         1       1   \n",
       "2              3         1       3   \n",
       "3              4         1       1   \n",
       "4              5         0       3   \n",
       "..           ...       ...     ...   \n",
       "886          887         0       2   \n",
       "887          888         1       1   \n",
       "888          889         0       3   \n",
       "889          890         1       1   \n",
       "890          891         0       3   \n",
       "\n",
       "                                                  Name     Sex   Age  SibSp  \\\n",
       "0                              Braund, Mr. Owen Harris    male  22.0      1   \n",
       "1    Cumings, Mrs. John Bradley (Florence Briggs Th...  female  38.0      1   \n",
       "2                               Heikkinen, Miss. Laina  female  26.0      0   \n",
       "3         Futrelle, Mrs. Jacques Heath (Lily May Peel)  female  35.0      1   \n",
       "4                             Allen, Mr. William Henry    male  35.0      0   \n",
       "..                                                 ...     ...   ...    ...   \n",
       "886                              Montvila, Rev. Juozas    male  27.0      0   \n",
       "887                       Graham, Miss. Margaret Edith  female  19.0      0   \n",
       "888           Johnston, Miss. Catherine Helen \"Carrie\"  female   NaN      1   \n",
       "889                              Behr, Mr. Karl Howell    male  26.0      0   \n",
       "890                                Dooley, Mr. Patrick    male  32.0      0   \n",
       "\n",
       "     Parch            Ticket     Fare Cabin Embarked  \n",
       "0        0         A/5 21171   7.2500   NaN        S  \n",
       "1        0          PC 17599  71.2833   C85        C  \n",
       "2        0  STON/O2. 3101282   7.9250   NaN        S  \n",
       "3        0            113803  53.1000  C123        S  \n",
       "4        0            373450   8.0500   NaN        S  \n",
       "..     ...               ...      ...   ...      ...  \n",
       "886      0            211536  13.0000   NaN        S  \n",
       "887      0            112053  30.0000   B42        S  \n",
       "888      2        W./C. 6607  23.4500   NaN        S  \n",
       "889      0            111369  30.0000  C148        C  \n",
       "890      0            370376   7.7500   NaN        Q  \n",
       "\n",
       "[891 rows x 12 columns]"
      ]
     },
     "execution_count": 3,
     "metadata": {},
     "output_type": "execute_result"
    }
   ],
   "source": [
    "#found some data\n",
    "url = 'https://raw.githubusercontent.com/pandas-dev/pandas/main/doc/data/titanic.csv'\n",
    "# get it \n",
    "urlData = requests.get(url).content\n",
    "#in a df from a string in csv format\n",
    "df = pd.read_csv(io.StringIO(urlData.decode('utf-8')))\n",
    "df\n"
   ]
  },
  {
   "cell_type": "code",
   "execution_count": 4,
   "id": "d273be23",
   "metadata": {
    "slideshow": {
     "slide_type": "fragment"
    }
   },
   "outputs": [
    {
     "data": {
      "image/png": "[encoded data removed]",
      "text/plain": [
       "<Figure size 432x288 with 1 Axes>"
      ]
     },
     "metadata": {
      "needs_background": "light"
     },
     "output_type": "display_data"
    }
   ],
   "source": [
    "df.plot.scatter(x = 'Pclass', y = 'Fare');\n",
    "\n"
   ]
  },
  {
   "cell_type": "code",
   "execution_count": 5,
   "id": "aaf423de",
   "metadata": {
    "slideshow": {
     "slide_type": "slide"
    }
   },
   "outputs": [],
   "source": [
    "vars = ['Fare','Pclass','Survived', 'Age', 'Parch']\n",
    "df = df[vars]  #subseting df\n",
    "df = df.apply(pd.to_numeric) # All values to numeric\n",
    "df = df.dropna(axis=0,inplace=False) # dropping nans (important)\n",
    "\n"
   ]
  },
  {
   "cell_type": "code",
   "execution_count": 6,
   "id": "b401f9e1",
   "metadata": {
    "slideshow": {
     "slide_type": "fragment"
    }
   },
   "outputs": [],
   "source": [
    "y = df.Fare.to_numpy() # fare = ticket price\n",
    "x = df[vars[1:]].to_numpy() # x vals\n",
    "\n"
   ]
  },
  {
   "cell_type": "code",
   "execution_count": 7,
   "id": "dd16c720",
   "metadata": {
    "slideshow": {
     "slide_type": "slide"
    }
   },
   "outputs": [],
   "source": [
    "reg = estimate(y, x, robust_se = False) #Reeeeeeg y x\n",
    "\n",
    "\n"
   ]
  },
  {
   "cell_type": "code",
   "execution_count": 8,
   "id": "c855d4ff",
   "metadata": {
    "slideshow": {
     "slide_type": "fragment"
    }
   },
   "outputs": [
    {
     "data": {
      "text/plain": [
       "{'b_hat': array([-8.88085677, 30.18132656,  1.03128368, 17.17280061]),\n",
       " 'se': array([[1.26924275],\n",
       "        [3.4503437 ],\n",
       "        [0.09149365],\n",
       "        [2.11559968]]),\n",
       " 'sigma2': array(2294.15065511),\n",
       " 't_values': array([[-6.99697261e+00,  2.37790025e+01,  8.12518865e-01,\n",
       "          1.35299576e+01],\n",
       "        [-2.57390496e+00,  8.74733916e+00,  2.98893029e-01,\n",
       "          4.97712753e+00],\n",
       "        [-9.70652840e+01,  3.29873469e+02,  1.12716426e+01,\n",
       "          1.87693914e+02],\n",
       "        [-4.19779642e+00,  1.42660858e+01,  4.87466361e-01,\n",
       "          8.11722593e+00]]),\n",
       " 'R2': 0.18422826705370599,\n",
       " 'cov': array([[ 1.61097717e+00, -3.44859947e-01, -8.06996426e-02,\n",
       "         -7.28279642e-01],\n",
       "        [-3.44859947e-01,  1.19048716e+01, -9.28623882e-02,\n",
       "         -1.35754892e+00],\n",
       "        [-8.06996426e-02, -9.28623882e-02,  8.37108734e-03,\n",
       "          1.26955755e-02],\n",
       "        [-7.28279642e-01, -1.35754892e+00,  1.26955755e-02,\n",
       "          4.47576203e+00]])}"
      ]
     },
     "execution_count": 8,
     "metadata": {},
     "output_type": "execute_result"
    }
   ],
   "source": [
    "reg\n",
    "\n"
   ]
  }
 ],
 "metadata": {
  "celltoolbar": "Slideshow",
  "kernelspec": {
   "display_name": "Python 3 (ipykernel)",
   "language": "python",
   "name": "python3"
  },
  "language_info": {
   "codemirror_mode": {
    "name": "ipython",
    "version": 3
   },
   "file_extension": ".py",
   "mimetype": "text/x-python",
   "name": "python",
   "nbconvert_exporter": "python",
   "pygments_lexer": "ipython3",
   "version": "3.9.7"
  }
 },
 "nbformat": 4,
 "nbformat_minor": 5
}
