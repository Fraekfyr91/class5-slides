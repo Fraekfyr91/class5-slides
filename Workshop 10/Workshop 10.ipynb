{
 "cells": [
  {
   "cell_type": "markdown",
   "id": "86dfd623",
   "metadata": {
    "slideshow": {
     "slide_type": "slide"
    }
   },
   "source": [
    "# Workshop 10"
   ]
  },
  {
   "cell_type": "markdown",
   "id": "ab028234",
   "metadata": {
    "slideshow": {
     "slide_type": "fragment"
    }
   },
   "source": [
    "# Plan for today\n",
    "- Data project follow up\n",
    "- Linear algebra\n",
    "- Solving equations analytically\n",
    "- Problem set 6"
   ]
  },
  {
   "cell_type": "markdown",
   "id": "d4d34a18",
   "metadata": {
    "slideshow": {
     "slide_type": "slide"
    }
   },
   "source": [
    "# Data project follow up\n",
    "- Remember to restart the kernel and run all cells before hand in.\n",
    "- Create functions, do not repeat your code.\n",
    "- Document your code line by line\n"
   ]
  },
  {
   "cell_type": "markdown",
   "id": "5f6ae6e1",
   "metadata": {
    "slideshow": {
     "slide_type": "fragment"
    }
   },
   "source": [
    "<img src=\"lego_pic.png\" style=\"float:center\">"
   ]
  },
  {
   "cell_type": "markdown",
   "id": "683b8e31",
   "metadata": {
    "slideshow": {
     "slide_type": "slide"
    }
   },
   "source": [
    "# Linear algebra"
   ]
  },
  {
   "cell_type": "markdown",
   "id": "5f27f78a",
   "metadata": {
    "slideshow": {
     "slide_type": "fragment"
    }
   },
   "source": [
    "# This book in python\n",
    "<img src=\"linalg.png\" style=\"float:center\">"
   ]
  },
  {
   "cell_type": "markdown",
   "id": "74cb6bb3",
   "metadata": {
    "slideshow": {
     "slide_type": "slide"
    }
   },
   "source": [
    "We use `SciPy's` module `linalg` to perform linear algebra operations: \n",
    "\n",
    "- Determinant, invert, norm.\n",
    "- Solve a system of equations.\n",
    "- Find eigenvalues.\n",
    "- Etc.\n",
    "\n",
    "[Module documentation](https://docs.scipy.org/doc/scipy/reference/linalg.html)"
   ]
  },
  {
   "cell_type": "markdown",
   "id": "c0721e35",
   "metadata": {
    "slideshow": {
     "slide_type": "slide"
    }
   },
   "source": [
    "# Example:\n",
    "$$ Ax = B $$\n"
   ]
  },
  {
   "cell_type": "code",
   "execution_count": 1,
   "id": "62d49dbd",
   "metadata": {
    "scrolled": true,
    "slideshow": {
     "slide_type": "fragment"
    }
   },
   "outputs": [
    {
     "name": "stdout",
     "output_type": "stream",
     "text": [
      "Matrix A: \n",
      "[[0.70043712 0.84418664 0.67651434 0.72785806 0.95145796]\n",
      " [0.0127032  0.4135877  0.04881279 0.09992856 0.50806631]\n",
      " [0.20024754 0.74415417 0.192892   0.70084475 0.29322811]\n",
      " [0.77447945 0.00510884 0.11285765 0.11095367 0.24766823]\n",
      " [0.0232363  0.72732115 0.34003494 0.19750316 0.90917959]] \n",
      "\n",
      " Matrix b:\n",
      "[0.97834699 0.53280254 0.25913185 0.58381262 0.32569065]\n"
     ]
    }
   ],
   "source": [
    "import numpy as np # import numpy\n",
    "from scipy import linalg # import linalg\n",
    "\n",
    "np.random.seed(666) # set seed\n",
    "\n",
    "A = np.random.uniform(size=(5,5)) # draw random A matrix\n",
    "B = np.random.uniform(size=5) # draw random B vector\n",
    "\n",
    "print(f'Matrix A: \\n{A} \\n\\n Matrix b:\\n{B}')\n",
    "\n"
   ]
  },
  {
   "cell_type": "markdown",
   "id": "02b230a5",
   "metadata": {
    "slideshow": {
     "slide_type": "slide"
    }
   },
   "source": [
    "## Example 1.\n",
    "We use `lu_factor(a[, overwrite_a, check_finite])`, to compute pivoted LU decomposition of A matrix.\n",
    "Decomposes A into upper and lower triangular matrix and solve through substitution.\n",
    "\n",
    "And `lu_solve(lu_and_piv, b[, trans, …])`, to solve an equation system, A x = B, given the LU factorization of A."
   ]
  },
  {
   "cell_type": "code",
   "execution_count": 2,
   "id": "44d057d0",
   "metadata": {
    "scrolled": true,
    "slideshow": {
     "slide_type": "fragment"
    }
   },
   "outputs": [
    {
     "name": "stdout",
     "output_type": "stream",
     "text": [
      "x is: [-1.09856672 -5.64094348 -3.17432935  5.50035431  4.89126724]\n"
     ]
    }
   ],
   "source": [
    "LU, piv = linalg.lu_factor(A) # compute LU decomposition of A\n",
    "x = linalg.lu_solve((LU,piv),B) # solve equation system\n",
    "print(f'x is: {x}')\n",
    "\n"
   ]
  },
  {
   "cell_type": "markdown",
   "id": "efe1f971",
   "metadata": {
    "slideshow": {
     "slide_type": "slide"
    }
   },
   "source": [
    "## Example 2\n",
    "Or the simple way...\n",
    "`solve(a, b[, sym_pos, lower, overwrite_a, …])`, solves the linear equation set A * x = B for the unknown x for square A matrix."
   ]
  },
  {
   "cell_type": "code",
   "execution_count": 3,
   "id": "e99c9e08",
   "metadata": {
    "scrolled": true,
    "slideshow": {
     "slide_type": "fragment"
    }
   },
   "outputs": [
    {
     "name": "stdout",
     "output_type": "stream",
     "text": [
      "x is: [-1.09856672 -5.64094348 -3.17432935  5.50035431  4.89126724]\n"
     ]
    }
   ],
   "source": [
    "# Simple solver\n",
    "x = linalg.solve(A,B)\n",
    "print(f'x is: {x}')\n",
    "\n"
   ]
  },
  {
   "cell_type": "markdown",
   "id": "4d950ea2",
   "metadata": {
    "slideshow": {
     "slide_type": "slide"
    }
   },
   "source": [
    "# Solving Equations analytically\n",
    "We use `Sympy` to work with formulas and model to enable us to translate analytics into python code - Wooow! \n",
    "\n",
    "\n",
    "Consider a utility function from a standard OLG model. \n",
    "\n",
    "Economic agents lives two periods (young/old) and obtains utility from consumption in both periods:\n",
    "\n",
    "$$U_{i,t} = u_i(c_{i,1}) + \\frac{1}{1+\\rho}u_i(C_{i,2})$$\n",
    "\n",
    "For simplicity we use log-utility."
   ]
  },
  {
   "cell_type": "code",
   "execution_count": 4,
   "id": "6e442577",
   "metadata": {
    "slideshow": {
     "slide_type": "fragment"
    }
   },
   "outputs": [
    {
     "data": {
      "text/latex": [
       "$\\displaystyle \\log{\\left(C_{i1} \\right)} + \\frac{\\log{\\left(C_{i2} \\right)}}{\\rho + 1}$"
      ],
      "text/plain": [
       "log(C_i1) + log(C_i2)/(rho + 1)"
      ]
     },
     "execution_count": 4,
     "metadata": {},
     "output_type": "execute_result"
    }
   ],
   "source": [
    "import sympy as sm # import sympy\n",
    "\n",
    "c1,c2 = sm.symbols(\"C_i1\"), sm.symbols(\"C_i2\") # define C_i1 and C_i2\n",
    "rho = sm.symbols(\"rho\") # define rho\n",
    "\n",
    "#log-utility\n",
    "uc1 = sm.ln(c1) \n",
    "uc2 = sm.ln(c2)\n",
    "# Define U_it\n",
    "U = uc1+1/(1+rho)*uc2\n",
    "U\n",
    "\n"
   ]
  },
  {
   "cell_type": "markdown",
   "id": "595276fc",
   "metadata": {
    "slideshow": {
     "slide_type": "slide"
    }
   },
   "source": [
    "Let's take the derivative of $U$ with respect to $C_{i,2}$"
   ]
  },
  {
   "cell_type": "code",
   "execution_count": 5,
   "id": "f14920b1",
   "metadata": {
    "slideshow": {
     "slide_type": "fragment"
    }
   },
   "outputs": [
    {
     "data": {
      "text/latex": [
       "$\\displaystyle \\frac{1}{C_{i2} \\left(\\rho + 1\\right)}$"
      ],
      "text/plain": [
       "1/(C_i2*(rho + 1))"
      ]
     },
     "execution_count": 5,
     "metadata": {},
     "output_type": "execute_result"
    }
   ],
   "source": [
    "sm.diff(U,c2)"
   ]
  },
  {
   "cell_type": "markdown",
   "id": "c9142eb2",
   "metadata": {
    "slideshow": {
     "slide_type": "fragment"
    }
   },
   "source": [
    "🔥🔥🔥🔥🔥🔥🔥🔥🔥🔥🔥🔥🔥🔥🔥🔥🔥🔥🔥🔥🔥🔥🔥🔥🔥🔥🔥🔥🔥🔥🔥🔥🔥🔥🔥🔥🔥🔥🔥🔥🔥🔥🔥🔥🔥🔥🔥🔥🔥🔥🔥🔥🔥🔥🔥🔥🔥🔥🔥🔥🔥🔥🔥🔥🔥🔥🔥🔥🔥🔥🔥🔥🔥🔥🔥🔥🔥🔥🔥🔥🔥🔥🔥🔥🔥🔥🔥🔥🔥🔥🔥🔥🔥🔥🔥🔥🔥🔥🔥🔥🔥🔥🔥🔥🔥🔥🔥🔥🔥🔥🔥🔥🔥🔥🔥🔥🔥🔥🔥🔥🔥🔥🔥🔥🔥🔥🔥🔥🔥🔥🔥🔥🔥🔥🔥🔥🔥🔥🔥🔥🔥🔥🔥🔥🔥🔥🔥🔥🔥🔥🔥🔥🔥🔥🔥🔥🔥🔥🔥🔥🔥🔥🔥🔥🔥🔥🔥🔥🔥🔥🔥🔥🔥🔥🔥🔥🔥🔥🔥🔥🔥🔥🔥🔥🔥🔥🔥🔥🔥🔥🔥🔥🔥🔥🔥🔥🔥🔥🔥🔥🔥🔥🔥🔥🔥🔥🔥🔥🔥🔥🔥🔥🔥🔥🔥🔥🔥🔥🔥🔥🔥🔥🔥🔥🔥🔥🔥🔥🔥🔥🔥🔥🔥🔥🔥🔥🔥🔥🔥🔥🔥🔥🔥🔥🔥🔥🔥🔥🔥🔥🔥🔥🔥🔥🔥🔥🔥🔥🔥🔥🔥🔥🔥🔥🔥🔥🔥🔥🔥🔥🔥🔥🔥🔥🔥🔥🔥🔥🔥🔥🔥🔥🔥🔥🔥🔥🔥🔥🔥🔥🔥🔥🔥🔥🔥🔥🔥🔥🔥🔥🔥🔥🔥🔥🔥🔥🔥🔥🔥🔥🔥🔥🔥🔥🔥🔥🔥🔥🔥🔥🔥🔥🔥🔥🔥🔥🔥🔥🔥🔥🔥🔥🔥🔥🔥🔥🔥🔥🔥🔥🔥🔥🔥🔥🔥🔥🔥🔥🔥🔥🔥🔥🔥🔥🔥🔥🔥🔥🔥🔥🔥🔥🔥🔥🔥🔥🔥🔥🔥🔥🔥🔥🔥🔥🔥🔥🔥🔥"
   ]
  },
  {
   "cell_type": "markdown",
   "id": "69a94ac4",
   "metadata": {
    "slideshow": {
     "slide_type": "slide"
    }
   },
   "source": [
    "## Sympy can turn your formulas into python functions.\n",
    "Use the `Lambdify` method which takes a function and an iterable as argument. In our case the function is utility and the iterable is consumption: "
   ]
  },
  {
   "cell_type": "code",
   "execution_count": 6,
   "id": "52e16e97",
   "metadata": {
    "slideshow": {
     "slide_type": "fragment"
    }
   },
   "outputs": [
    {
     "name": "stdout",
     "output_type": "stream",
     "text": [
      "Utility for C1=10, C2=5 and rho=0.1: 3.77\n"
     ]
    }
   ],
   "source": [
    "# define utility as a lamba function\n",
    "util = sm.lambdify((c1,c2,rho),U)\n",
    "\n",
    "print(f'Utility for C1=10, C2=5 and rho=0.1: {util(10,5,0.1):.2f}')\n",
    "\n"
   ]
  },
  {
   "cell_type": "markdown",
   "id": "ceacf93c",
   "metadata": {
    "slideshow": {
     "slide_type": "slide"
    }
   },
   "source": [
    "# Problem set 6\n",
    "- remember to get the latest version"
   ]
  }
 ],
 "metadata": {
  "celltoolbar": "Slideshow",
  "kernelspec": {
   "display_name": "Python 3 (ipykernel)",
   "language": "python",
   "name": "python3"
  },
  "language_info": {
   "codemirror_mode": {
    "name": "ipython",
    "version": 3
   },
   "file_extension": ".py",
   "mimetype": "text/x-python",
   "name": "python",
   "nbconvert_exporter": "python",
   "pygments_lexer": "ipython3",
   "version": "3.9.7"
  }
 },
 "nbformat": 4,
 "nbformat_minor": 5
}
