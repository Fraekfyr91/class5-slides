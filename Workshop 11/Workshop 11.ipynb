{
 "cells": [
  {
   "cell_type": "markdown",
   "id": "1b559f78",
   "metadata": {
    "slideshow": {
     "slide_type": "slide"
    }
   },
   "source": [
    "# Workshop 11\n"
   ]
  },
  {
   "cell_type": "markdown",
   "id": "1a69b6b4",
   "metadata": {
    "slideshow": {
     "slide_type": "fragment"
    }
   },
   "source": [
    "You should all have received feedback from you data projects.  \n",
    "Let me know if you have any questions or want something elaborated."
   ]
  },
  {
   "cell_type": "markdown",
   "id": "9bce450b",
   "metadata": {
    "slideshow": {
     "slide_type": "slide"
    }
   },
   "source": [
    "\n",
    "# Plan for today\n",
    "- Optimizing convex and non-convex functions\n",
    "- Dynamic model\n",
    "- Linear interpolation\n",
    "- Problem set 7"
   ]
  },
  {
   "cell_type": "markdown",
   "id": "92c90e4e",
   "metadata": {
    "slideshow": {
     "slide_type": "slide"
    }
   },
   "source": [
    "# Optimizing \n",
    "\n",
    "See lecture 11 for guidance.\n",
    "\n",
    "First part deals with evaluating different **optimization** methods under convex and non-convex (noisy) objective functions.  \n",
    "We are wworking with:  \n",
    "- Nelder-mead (*robust to noise in objective function*)  \n",
    "- BFGS and Newton-CG (*quick and precise on smooth objective functions*)\n",
    "\n",
    "See the gif from workshop 4 for a visualization of the Nelder-mead method.\n",
    "BFGS and Newton-CG are both based on Newtons method see workshop 9 for a visualization and code.\n",
    "\n",
    "The **takeaway** is that under a *noisy objective function*, which has **local minimas**, you are not guaranteed to converge to the **global minimum**. The initial guess has great importance and a **multistart** optimization could be appropriate. "
   ]
  },
  {
   "cell_type": "markdown",
   "id": "42ca5936",
   "metadata": {
    "slideshow": {
     "slide_type": "slide"
    }
   },
   "source": [
    "## Dynamic model\n",
    "\n",
    "In the exam of 2020 and 2021 you should solve a dynamic model, good investment of time!  \n",
    "\n",
    "\n",
    "### Dynamic 2-period problem:  \n",
    "\\begin{aligned}\n",
    "v_{1}(m_{1}) & = \n",
    "\\max_{c_{1}}\\frac{c_{1}^{1-\\rho}}{1-\\rho}+\\beta\\mathbb{E}_{1}\\left[v_2(m_2)\\right]\\\\\n",
    "m_2 &= (1+r)(m_{1}-c_{1})+y_{2} \\\\\n",
    "y_{2} &= \\begin{cases}\n",
    "1-\\Delta & \\text{with prob. }0.5\\\\\n",
    "1+\\Delta & \\text{with prob. }0.5 \n",
    "\\end{cases}\\\\\n",
    "v_{2}(m_{2}) &= \\max_{c_{2}}\\frac{c_{2}^{1-\\rho}}{1-\\rho}+\\nu\\frac{(m_{2}-c_{2}+\\kappa)^{1-\\rho}}{1-\\rho} \\\\\n",
    "\\end{aligned}\n",
    "\n",
    "The agents derive utility from **consumption** but also leaving a **bequest**.  \n",
    "Consumption decisions in period 2, $c_2$, relies on cash on hands in period 2, $m_2$, as well as (uncertain) income, $m_2 = (1+r)(m_1-c_1)+y_2)$.  \n",
    "In period 2, the spending decisions is tied to the amount of cash-on-hand, $m_2$. Cash-on-hand in period 2 relies on the leftover asset from period 1, $m_1-c_1$.  \n",
    "The consumer should take this into account when making spending decisions in period 1!  \n",
    "\n",
    "Solve the model using *backwards induction*. Solve $v_{2}(m_{2})$ for a finite $m_2$-grid and then solve $v_{1}(m_{1})$ with *interpolated* $v_{2}(m_{2})$-function as input."
   ]
  },
  {
   "cell_type": "markdown",
   "id": "50bf8ebe",
   "metadata": {
    "slideshow": {
     "slide_type": "slide"
    }
   },
   "source": [
    "# Linear interpolation"
   ]
  },
  {
   "cell_type": "code",
   "execution_count": 1,
   "id": "dbe8fad5",
   "metadata": {
    "slideshow": {
     "slide_type": "fragment"
    }
   },
   "outputs": [],
   "source": [
    "import numpy as np\n",
    "import matplotlib.pyplot as plt\n",
    "from scipy import interpolate\n",
    "\n"
   ]
  },
  {
   "cell_type": "code",
   "execution_count": 2,
   "id": "2e565ece",
   "metadata": {
    "slideshow": {
     "slide_type": "slide"
    }
   },
   "outputs": [],
   "source": [
    "# function to interpolate\n",
    "f = lambda x: (x-3)**3 - 3*x**2 + 5*x\n",
    "G = np.linspace(-5,10,6) # vector with just 6 points\n",
    "F = f(G) # evaluate function in those 6 points\n",
    "\n"
   ]
  },
  {
   "cell_type": "code",
   "execution_count": 3,
   "id": "bc5c048d",
   "metadata": {
    "slideshow": {
     "slide_type": "fragment"
    }
   },
   "outputs": [],
   "source": [
    "\n",
    "# construct interpolation function\n",
    "interp_func = interpolate.RegularGridInterpolator([G],F,\n",
    "                                                  bounds_error=False,\n",
    "                                                  fill_value=None)\n"
   ]
  },
  {
   "cell_type": "code",
   "execution_count": 4,
   "id": "b4d69cd3",
   "metadata": {
    "slideshow": {
     "slide_type": "fragment"
    }
   },
   "outputs": [],
   "source": [
    "# interpolate based on grid\n",
    "grid = np.linspace(-7,12,500)\n",
    "interp_values = interp_func(grid)\n",
    "\n"
   ]
  },
  {
   "cell_type": "code",
   "execution_count": 5,
   "id": "bb0b6445",
   "metadata": {
    "slideshow": {
     "slide_type": "fragment"
    }
   },
   "outputs": [],
   "source": [
    "# evaluate true values\n",
    "true_values = f(grid)\n",
    "\n"
   ]
  },
  {
   "cell_type": "code",
   "execution_count": 6,
   "id": "b40a1029",
   "metadata": {
    "slideshow": {
     "slide_type": "slide"
    }
   },
   "outputs": [
    {
     "data": {
      "image/png": "[encoded data removed]",
      "text/plain": [
       "<Figure size 432x288 with 1 Axes>"
      ]
     },
     "metadata": {
      "needs_background": "light"
     },
     "output_type": "display_data"
    }
   ],
   "source": [
    "# Plot known points\n",
    "plt.plot(G,F,'o',label='known points');\n"
   ]
  },
  {
   "cell_type": "code",
   "execution_count": 7,
   "id": "228c04ed",
   "metadata": {
    "slideshow": {
     "slide_type": "slide"
    }
   },
   "outputs": [
    {
     "data": {
      "image/png": "[encoded data removed]",
      "text/plain": [
       "<Figure size 432x288 with 1 Axes>"
      ]
     },
     "metadata": {
      "needs_background": "light"
     },
     "output_type": "display_data"
    }
   ],
   "source": [
    "plt.plot(G,F,'o',label='known points') # Plot known points\n",
    "plt.plot(grid,true_values,'-',lw=1,label='true function'); # Plot true function\n"
   ]
  },
  {
   "cell_type": "code",
   "execution_count": 8,
   "id": "67c62e30",
   "metadata": {
    "slideshow": {
     "slide_type": "slide"
    }
   },
   "outputs": [
    {
     "data": {
      "image/png": "[encoded data removed]",
      "text/plain": [
       "<Figure size 720x504 with 1 Axes>"
      ]
     },
     "metadata": {
      "needs_background": "light"
     },
     "output_type": "display_data"
    }
   ],
   "source": [
    "# define figure and axis\n",
    "fig = plt.figure(figsize = (10,7)) \n",
    "ax = fig.add_subplot(1,1,1)\n",
    "\n",
    "ax.plot(G,F,'o',label='known points') # Plot known points\n",
    "ax.plot(grid,true_values,'-',lw=1,label='true function') # Plot true function\n",
    "ax.plot(grid,interp_values,'-',lw=1,label='interpolated values') # Plot interpolated values\n",
    "ax.legend(loc='lower right',facecolor='white',frameon=True) # legend\n",
    "plt.savefig('linear_interpolation.png'); # save fig"
   ]
  },
  {
   "cell_type": "markdown",
   "id": "e9cf396b",
   "metadata": {
    "slideshow": {
     "slide_type": "slide"
    }
   },
   "source": [
    "# Problem set 7"
   ]
  }
 ],
 "metadata": {
  "celltoolbar": "Slideshow",
  "kernelspec": {
   "display_name": "Python 3 (ipykernel)",
   "language": "python",
   "name": "python3"
  },
  "language_info": {
   "codemirror_mode": {
    "name": "ipython",
    "version": 3
   },
   "file_extension": ".py",
   "mimetype": "text/x-python",
   "name": "python",
   "nbconvert_exporter": "python",
   "pygments_lexer": "ipython3",
   "version": "3.9.7"
  }
 },
 "nbformat": 4,
 "nbformat_minor": 5
}
