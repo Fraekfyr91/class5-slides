{
 "cells": [
  {
   "cell_type": "markdown",
   "id": "604ccdd4",
   "metadata": {
    "slideshow": {
     "slide_type": "slide"
    }
   },
   "source": [
    "# Workshop 7"
   ]
  },
  {
   "cell_type": "markdown",
   "id": "8a38994d",
   "metadata": {
    "slideshow": {
     "slide_type": "slide"
    }
   },
   "source": [
    "# Please be carefull!\n",
    "## If you cannot solve the task\n",
    "- Read the solution carefully line by line\n",
    "- Make sure you understand what is going on\n",
    "- If you dont, try to google, aks your group, ask me!\n",
    "- We are here to learn, if you don't understand the code, what have you learned?\n"
   ]
  },
  {
   "cell_type": "markdown",
   "id": "6783105a",
   "metadata": {
    "slideshow": {
     "slide_type": "slide"
    }
   },
   "source": [
    "# Remember to give feedback to the Inaugural Project\n",
    "## If you have an questions regarding giving feedback, or have questions to the feedback i gave - Please ask"
   ]
  },
  {
   "cell_type": "markdown",
   "id": "adfb5cbb",
   "metadata": {
    "slideshow": {
     "slide_type": "slide"
    }
   },
   "source": [
    "# Problem set \\#4\n",
    "- Load data from an API\n",
    "- Split-Apply-Combine"
   ]
  },
  {
   "cell_type": "markdown",
   "id": "689de223",
   "metadata": {
    "slideshow": {
     "slide_type": "slide"
    }
   },
   "source": [
    "# Load Data from an API\n",
    "## Try to read the docs\n",
    "- This will be usefull if you want to understand the commands\n",
    "- This is usefull since they often varies\n",
    "- This is important for your next project.\n",
    "\n",
    "[Statistics Denmark API docs](https://pydst.readthedocs.io/en/latest/pydst.html)"
   ]
  },
  {
   "cell_type": "code",
   "execution_count": 1,
   "id": "72361253",
   "metadata": {
    "slideshow": {
     "slide_type": "fragment"
    }
   },
   "outputs": [],
   "source": [
    "import numpy as np\n",
    "import pandas as pd\n",
    "import matplotlib.pyplot as plt\n",
    "\n"
   ]
  },
  {
   "cell_type": "markdown",
   "id": "0a16788e",
   "metadata": {
    "slideshow": {
     "slide_type": "slide"
    }
   },
   "source": [
    "# Split-Apply-Combine"
   ]
  },
  {
   "cell_type": "code",
   "execution_count": 2,
   "id": "ebc7b26b",
   "metadata": {
    "slideshow": {
     "slide_type": "fragment"
    }
   },
   "outputs": [
    {
     "data": {
      "text/html": [
       "<div>\n",
       "<style scoped>\n",
       "    .dataframe tbody tr th:only-of-type {\n",
       "        vertical-align: middle;\n",
       "    }\n",
       "\n",
       "    .dataframe tbody tr th {\n",
       "        vertical-align: top;\n",
       "    }\n",
       "\n",
       "    .dataframe thead th {\n",
       "        text-align: right;\n",
       "    }\n",
       "</style>\n",
       "<table border=\"1\" class=\"dataframe\">\n",
       "  <thead>\n",
       "    <tr style=\"text-align: right;\">\n",
       "      <th></th>\n",
       "      <th>group</th>\n",
       "      <th>income</th>\n",
       "      <th>rent</th>\n",
       "      <th>consumption</th>\n",
       "    </tr>\n",
       "  </thead>\n",
       "  <tbody>\n",
       "    <tr>\n",
       "      <th>0</th>\n",
       "      <td>1</td>\n",
       "      <td>4.273685</td>\n",
       "      <td>1.709474</td>\n",
       "      <td>1.111158</td>\n",
       "    </tr>\n",
       "    <tr>\n",
       "      <th>1</th>\n",
       "      <td>1</td>\n",
       "      <td>4.028375</td>\n",
       "      <td>1.611350</td>\n",
       "      <td>1.047377</td>\n",
       "    </tr>\n",
       "    <tr>\n",
       "      <th>2</th>\n",
       "      <td>1</td>\n",
       "      <td>7.255236</td>\n",
       "      <td>2.902095</td>\n",
       "      <td>1.886361</td>\n",
       "    </tr>\n",
       "    <tr>\n",
       "      <th>3</th>\n",
       "      <td>1</td>\n",
       "      <td>2.879628</td>\n",
       "      <td>1.151851</td>\n",
       "      <td>0.748703</td>\n",
       "    </tr>\n",
       "    <tr>\n",
       "      <th>4</th>\n",
       "      <td>2</td>\n",
       "      <td>1.523602</td>\n",
       "      <td>0.609441</td>\n",
       "      <td>0.396136</td>\n",
       "    </tr>\n",
       "    <tr>\n",
       "      <th>...</th>\n",
       "      <td>...</td>\n",
       "      <td>...</td>\n",
       "      <td>...</td>\n",
       "      <td>...</td>\n",
       "    </tr>\n",
       "    <tr>\n",
       "      <th>6375</th>\n",
       "      <td>1</td>\n",
       "      <td>3.271722</td>\n",
       "      <td>1.308689</td>\n",
       "      <td>0.850648</td>\n",
       "    </tr>\n",
       "    <tr>\n",
       "      <th>6376</th>\n",
       "      <td>2</td>\n",
       "      <td>9.415203</td>\n",
       "      <td>3.766081</td>\n",
       "      <td>2.447953</td>\n",
       "    </tr>\n",
       "    <tr>\n",
       "      <th>6377</th>\n",
       "      <td>2</td>\n",
       "      <td>20.705526</td>\n",
       "      <td>8.282211</td>\n",
       "      <td>5.383437</td>\n",
       "    </tr>\n",
       "    <tr>\n",
       "      <th>6378</th>\n",
       "      <td>1</td>\n",
       "      <td>3.737855</td>\n",
       "      <td>1.495142</td>\n",
       "      <td>0.971842</td>\n",
       "    </tr>\n",
       "    <tr>\n",
       "      <th>6379</th>\n",
       "      <td>1</td>\n",
       "      <td>4.191486</td>\n",
       "      <td>1.676594</td>\n",
       "      <td>1.089786</td>\n",
       "    </tr>\n",
       "  </tbody>\n",
       "</table>\n",
       "<p>6380 rows × 4 columns</p>\n",
       "</div>"
      ],
      "text/plain": [
       "      group     income      rent  consumption\n",
       "0         1   4.273685  1.709474     1.111158\n",
       "1         1   4.028375  1.611350     1.047377\n",
       "2         1   7.255236  2.902095     1.886361\n",
       "3         1   2.879628  1.151851     0.748703\n",
       "4         2   1.523602  0.609441     0.396136\n",
       "...     ...        ...       ...          ...\n",
       "6375      1   3.271722  1.308689     0.850648\n",
       "6376      2   9.415203  3.766081     2.447953\n",
       "6377      2  20.705526  8.282211     5.383437\n",
       "6378      1   3.737855  1.495142     0.971842\n",
       "6379      1   4.191486  1.676594     1.089786\n",
       "\n",
       "[6380 rows x 4 columns]"
      ]
     },
     "execution_count": 2,
     "metadata": {},
     "output_type": "execute_result"
    }
   ],
   "source": [
    "# From last time\n",
    "np.random.seed(666) # set seed \n",
    "N = np.random.randint(10000) # draw random amount \n",
    "log_dist = np.exp(np.random.normal(size=N)) # log distribution = exp ( normal distribution )\n",
    "group =np.random.randint(low=1, high=3, size=N) # randomly draw 1 and 2 \n",
    "data = {'group': group, 'income':  log_dist* 5, 'rent': log_dist*2, 'consumption': log_dist* 1.3} # Create dictionary with data\n",
    "df = pd.DataFrame(data) # turn dictionary to dataframe\n",
    "df # show the dataframe\n"
   ]
  },
  {
   "cell_type": "markdown",
   "id": "43f26e69",
   "metadata": {
    "slideshow": {
     "slide_type": "slide"
    }
   },
   "source": [
    "# Split\n",
    "- Split The data set into units\n"
   ]
  },
  {
   "cell_type": "code",
   "execution_count": 3,
   "id": "fd5fb9b1",
   "metadata": {
    "slideshow": {
     "slide_type": "fragment"
    }
   },
   "outputs": [
    {
     "data": {
      "image/png": "[encoded data removed]",
      "text/plain": [
       "<Figure size 432x288 with 1 Axes>"
      ]
     },
     "metadata": {
      "needs_background": "light"
     },
     "output_type": "display_data"
    }
   ],
   "source": [
    "# a. split\n",
    "data_grouped = df.groupby('group')['income'] # group by group id, and select income\n",
    "data_grouped.hist(bins=50); # plot histogram of income distribution\n",
    "\n"
   ]
  },
  {
   "cell_type": "markdown",
   "id": "79a09e40",
   "metadata": {
    "slideshow": {
     "slide_type": "slide"
    }
   },
   "source": [
    "# Apply\n",
    "- Compute max income for each unit"
   ]
  },
  {
   "cell_type": "code",
   "execution_count": 4,
   "id": "851ccc03",
   "metadata": {
    "slideshow": {
     "slide_type": "fragment"
    }
   },
   "outputs": [
    {
     "data": {
      "text/plain": [
       "group\n",
       "1    229.407652\n",
       "2    160.053779\n",
       "Name: max income, dtype: float64"
      ]
     },
     "execution_count": 4,
     "metadata": {},
     "output_type": "execute_result"
    }
   ],
   "source": [
    "df_max = data_grouped.max() # select max income in each group\n",
    "df_max.name = 'max income' # necessary for join\n",
    "df_max\n"
   ]
  },
  {
   "cell_type": "markdown",
   "id": "0e80174d",
   "metadata": {
    "slideshow": {
     "slide_type": "slide"
    }
   },
   "source": [
    "# Combine\n",
    "- Merge this new variable back onto the original dataset"
   ]
  },
  {
   "cell_type": "code",
   "execution_count": 5,
   "id": "2971a239",
   "metadata": {
    "slideshow": {
     "slide_type": "fragment"
    }
   },
   "outputs": [
    {
     "data": {
      "image/png": "[encoded data removed]",
      "text/plain": [
       "<Figure size 432x288 with 1 Axes>"
      ]
     },
     "metadata": {
      "needs_background": "light"
     },
     "output_type": "display_data"
    }
   ],
   "source": [
    "# left join origional dataframe df with the new column with max value by group\n",
    "df_ = df.set_index('group').join(df_max, how='left')\n",
    "\n",
    "df_['max diff'] = df_.income - df_['max income'] # new column with difference between income and max income \n",
    "df_['max diff'].hist(bins=50); # plot histogram of new measure\n",
    "\n"
   ]
  },
  {
   "cell_type": "markdown",
   "id": "34782774",
   "metadata": {
    "slideshow": {
     "slide_type": "slide"
    }
   },
   "source": [
    "# Some usefull resources\n",
    "\n",
    "- [Python operators](https://www.journaldev.com/14082/python-operators)  How does some operator work?\n",
    "- [merging guide](https://pandas.pydata.org/pandas-docs/stable/user_guide/merging.html) How does my final DataFrame look after i combine"
   ]
  }
 ],
 "metadata": {
  "celltoolbar": "Slideshow",
  "kernelspec": {
   "display_name": "Python 3 (ipykernel)",
   "language": "python",
   "name": "python3"
  },
  "language_info": {
   "codemirror_mode": {
    "name": "ipython",
    "version": 3
   },
   "file_extension": ".py",
   "mimetype": "text/x-python",
   "name": "python",
   "nbconvert_exporter": "python",
   "pygments_lexer": "ipython3",
   "version": "3.9.7"
  }
 },
 "nbformat": 4,
 "nbformat_minor": 5
}
