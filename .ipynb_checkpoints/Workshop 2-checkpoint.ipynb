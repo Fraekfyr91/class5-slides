{
 "cells": [
  {
   "cell_type": "markdown",
   "id": "525c0f2e",
   "metadata": {
    "slideshow": {
     "slide_type": "slide"
    }
   },
   "source": [
    "# Introduction to Programming and Numerical Analysis\n",
    "- Workshop 2\n",
    "\n"
   ]
  },
  {
   "cell_type": "markdown",
   "id": "566be4c4",
   "metadata": {
    "slideshow": {
     "slide_type": "slide"
    }
   },
   "source": [
    "# Last time:\n",
    "- Installations\n",
    "- DataCamp"
   ]
  },
  {
   "cell_type": "markdown",
   "id": "57c2461d",
   "metadata": {
    "slideshow": {
     "slide_type": "slide"
    }
   },
   "source": [
    "# This time\n",
    "- VScode\n",
    "- Resources\n",
    "- DataCamp"
   ]
  },
  {
   "cell_type": "markdown",
   "id": "ba11fa5e",
   "metadata": {
    "slideshow": {
     "slide_type": "slide"
    }
   },
   "source": [
    "# Visual Studio Code\n",
    "- Try to follow the instructions from course web site\n",
    "- Obs on windows Select Default Shell = Select Default Profile"
   ]
  },
  {
   "cell_type": "markdown",
   "id": "6d7b211d",
   "metadata": {
    "slideshow": {
     "slide_type": "slide"
    }
   },
   "source": [
    "# The greatest thing about python\n",
    "## Every one of your questions is already answered\n",
    "- Google as much as you can!!!\n",
    "- Look at stack owerflow for answers\n",
    "- Example: how to subset a list in python\n"
   ]
  },
  {
   "cell_type": "markdown",
   "id": "ff5d054a",
   "metadata": {
    "slideshow": {
     "slide_type": "slide"
    }
   },
   "source": [
    "# Extra assignment\n",
    "- Try download the slides by using the terminal\n",
    "- https://github.com/Fraekfyr91/class5-slides.git"
   ]
  }
 ],
 "metadata": {
  "celltoolbar": "Slideshow",
  "kernelspec": {
   "display_name": "Python 3 (ipykernel)",
   "language": "python",
   "name": "python3"
  },
  "language_info": {
   "codemirror_mode": {
    "name": "ipython",
    "version": 3
   },
   "file_extension": ".py",
   "mimetype": "text/x-python",
   "name": "python",
   "nbconvert_exporter": "python",
   "pygments_lexer": "ipython3",
   "version": "3.9.7"
  }
 },
 "nbformat": 4,
 "nbformat_minor": 5
}
