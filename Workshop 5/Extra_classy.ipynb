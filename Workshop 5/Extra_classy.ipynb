{
 "cells": [
  {
   "cell_type": "code",
   "execution_count": 4,
   "id": "8e413ae4-7660-4d6b-84c4-64ddb0f9fbc8",
   "metadata": {},
   "outputs": [],
   "source": [
    "%load_ext autoreload\n",
    "%autoreload 2\n",
    "import Extra"
   ]
  },
  {
   "cell_type": "code",
   "execution_count": 8,
   "id": "e9af8c37-505d-4324-b43e-b42833d2b05b",
   "metadata": {},
   "outputs": [],
   "source": [
    "model = Extra.problem(N=10000, p = [2,1,6], k =2,  kappa = 0.5, eps = 1e-8, maxiter = 1000, disp = False)\n"
   ]
  },
  {
   "cell_type": "code",
   "execution_count": 9,
   "id": "d1e526f0-e705-47ef-9ab3-06991c85ba95",
   "metadata": {},
   "outputs": [],
   "source": [
    "p = model.find_equilibrium()"
   ]
  },
  {
   "cell_type": "code",
   "execution_count": 10,
   "id": "ea241107",
   "metadata": {},
   "outputs": [
    {
     "data": {
      "text/plain": [
       "[5.6453967177437265, 1, 6]"
      ]
     },
     "execution_count": 10,
     "metadata": {},
     "output_type": "execute_result"
    }
   ],
   "source": [
    "p"
   ]
  },
  {
   "cell_type": "code",
   "execution_count": null,
   "id": "9e073de3",
   "metadata": {},
   "outputs": [],
   "source": []
  },
  {
   "cell_type": "code",
   "execution_count": null,
   "id": "e28b8941",
   "metadata": {},
   "outputs": [],
   "source": []
  }
 ],
 "metadata": {
  "kernelspec": {
   "display_name": "Python 3 (ipykernel)",
   "language": "python",
   "name": "python3"
  },
  "language_info": {
   "codemirror_mode": {
    "name": "ipython",
    "version": 3
   },
   "file_extension": ".py",
   "mimetype": "text/x-python",
   "name": "python",
   "nbconvert_exporter": "python",
   "pygments_lexer": "ipython3",
   "version": "3.9.7"
  }
 },
 "nbformat": 4,
 "nbformat_minor": 5
}
