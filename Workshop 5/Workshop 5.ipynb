{
 "cells": [
  {
   "cell_type": "markdown",
   "id": "0ffd004c",
   "metadata": {},
   "source": [
    "# Problem set 2"
   ]
  },
  {
   "cell_type": "markdown",
   "id": "e38e1c15",
   "metadata": {},
   "source": [
    "# Plan of the day!\n",
    "- Github!\n",
    "- Markdown\n",
    "- Plots\n",
    "- The Classy solution from problem set 1\n",
    "- Work on problem set 2"
   ]
  },
  {
   "cell_type": "markdown",
   "id": "076420cb",
   "metadata": {},
   "source": [
    "# Github\n",
    "- Make sure your group repository is all set!"
   ]
  },
  {
   "cell_type": "markdown",
   "id": "f48d22a0",
   "metadata": {},
   "source": [
    "# Markdown"
   ]
  },
  {
   "cell_type": "markdown",
   "id": "747b3b2a",
   "metadata": {},
   "source": [
    "# Header 1\n",
    "## Header 2\n",
    "### Header 3\n",
    "#### Header 4\n",
    "##### Header 5\n",
    "###### Header 6"
   ]
  },
  {
   "cell_type": "markdown",
   "id": "b3eedf54",
   "metadata": {},
   "source": [
    "**This is bold text**  \n",
    "__This is bold text__"
   ]
  },
  {
   "cell_type": "markdown",
   "id": "0126f066",
   "metadata": {},
   "source": [
    "*This is italic text*  \n",
    "_This is italic text_"
   ]
  },
  {
   "cell_type": "code",
   "execution_count": null,
   "id": "402c24e5",
   "metadata": {},
   "outputs": [],
   "source": [
    "~~Scratch this~~"
   ]
  },
  {
   "cell_type": "markdown",
   "id": "f5d933f8",
   "metadata": {},
   "source": [
    "\\# Not a header"
   ]
  },
  {
   "cell_type": "markdown",
   "id": "0c7b4820",
   "metadata": {},
   "source": [
    "> some text\n",
    ">> and then some more text\n",
    ">>> and then some more"
   ]
  },
  {
   "cell_type": "markdown",
   "id": "442ca394",
   "metadata": {},
   "source": [
    "---\n",
    "___\n",
    "***"
   ]
  },
  {
   "cell_type": "markdown",
   "id": "21299241",
   "metadata": {},
   "source": [
    "1. Stuff\n",
    "2. More stuff\n",
    "3. Even more"
   ]
  },
  {
   "cell_type": "markdown",
   "id": "e3e6cb58",
   "metadata": {},
   "source": [
    "- Stuff\n",
    "- More stuff\n",
    "- Even more"
   ]
  },
  {
   "cell_type": "markdown",
   "id": "edb8fec6",
   "metadata": {},
   "source": [
    "- [x] Some task\n",
    "- [ ] Some more task"
   ]
  },
  {
   "cell_type": "markdown",
   "id": "174e93d7",
   "metadata": {},
   "source": [
    "\n",
    "```python\n",
    "s = \"Python syntax highlighting\"\n",
    "print(s)\n",
    "```"
   ]
  },
  {
   "cell_type": "markdown",
   "id": "cb3bf7c5",
   "metadata": {},
   "source": [
    "$\\sqrt{k}$"
   ]
  },
  {
   "cell_type": "markdown",
   "id": "9573bbc2",
   "metadata": {},
   "source": [
    "This is [a reference][]\n",
    "\n",
    "[a reference]: https://www.ibm.com/docs/en/watson-studio-local/1.2.3?topic=notebooks-markdown-jupyter-cheatsheet \"Markdown\""
   ]
  },
  {
   "cell_type": "markdown",
   "id": "e86feb82",
   "metadata": {},
   "source": [
    "# Plots "
   ]
  },
  {
   "cell_type": "markdown",
   "id": "67588ebd",
   "metadata": {},
   "source": [
    "Your new [Favorite book][]\n",
    "\n",
    "[Favorite book]: https://github.com/rougier/scientific-visualization-book \"Visualization book\"\n",
    "\n"
   ]
  },
  {
   "cell_type": "markdown",
   "id": "64ccfb13",
   "metadata": {},
   "source": [
    "# The classy solution"
   ]
  },
  {
   "cell_type": "markdown",
   "id": "1dd89034",
   "metadata": {},
   "source": [
    "# Get your fingers dirty!"
   ]
  }
 ],
 "metadata": {
  "kernelspec": {
   "display_name": "Python 3 (ipykernel)",
   "language": "python",
   "name": "python3"
  },
  "language_info": {
   "codemirror_mode": {
    "name": "ipython",
    "version": 3
   },
   "file_extension": ".py",
   "mimetype": "text/x-python",
   "name": "python",
   "nbconvert_exporter": "python",
   "pygments_lexer": "ipython3",
   "version": "3.9.7"
  }
 },
 "nbformat": 4,
 "nbformat_minor": 5
}
