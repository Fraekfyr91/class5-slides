{
 "cells": [
  {
   "cell_type": "markdown",
   "metadata": {
    "slideshow": {
     "slide_type": "slide"
    }
   },
   "source": [
    "# Workshop 12"
   ]
  },
  {
   "cell_type": "markdown",
   "metadata": {
    "slideshow": {
     "slide_type": "fragment"
    }
   },
   "source": [
    "# Plan for today:\n",
    "- A model project example\n",
    "- Work on your model project"
   ]
  },
  {
   "cell_type": "markdown",
   "metadata": {
    "slideshow": {
     "slide_type": "slide"
    }
   },
   "source": [
    "# From Malthusian stagnation to sustained economic growth"
   ]
  },
  {
   "cell_type": "markdown",
   "metadata": {
    "slideshow": {
     "slide_type": "fragment"
    }
   },
   "source": [
    "The Malthus hypothesis states that in pre-industrial times, increases in technological sophistication lead to an increase in population and population density in the short- and long-run, but do not permanently raise income per capita levels. In this assignment, we rely on a model by [Ashraf and Galor (2011)](https://www.aeaweb.org/articles?id=10.1257/aer.101.5.2003) and show that when utility depends only on consumption and the number of children, this hypothesis indeed holds true. Even when we allow technology to be endogenous to the population, this continues to be the case. However, when we extent the model such that utility also depends on the education level of the offspring, sustained economic growth can be achieved. This is because households face a quantity-quality tradeoff, where quantity refers to the number of children and quality refers to the education level of children. Increases in the rate of technological prgoress induce a fertility decline as households optimize their utility by reducing the number of offspring, but increasing their level of education."
   ]
  },
  {
   "cell_type": "markdown",
   "metadata": {
    "slideshow": {
     "slide_type": "slide"
    }
   },
   "source": [
    "**Imports and set magics:**"
   ]
  },
  {
   "cell_type": "code",
   "execution_count": 1,
   "metadata": {
    "slideshow": {
     "slide_type": "fragment"
    }
   },
   "outputs": [],
   "source": [
    "import numpy as np\n",
    "import scipy as sp\n",
    "from scipy import optimize\n",
    "import sympy as sm\n",
    "import math\n",
    "from math import log\n",
    "\n",
    "import ipywidgets as widgets\n",
    "from ipywidgets import interact, interactive, fixed, interact_manual\n",
    "# autoreload modules when code is run\n",
    "%load_ext autoreload\n",
    "%autoreload 2\n",
    "\n",
    "# local modules\n",
    "from modelproject import *\n",
    "import matplotlib.pyplot as plt\n",
    "plt.style.use('seaborn-whitegrid')\n"
   ]
  },
  {
   "cell_type": "markdown",
   "metadata": {
    "slideshow": {
     "slide_type": "slide"
    }
   },
   "source": [
    "# The Malthusian Model: Model Description"
   ]
  },
  {
   "cell_type": "markdown",
   "metadata": {
    "slideshow": {
     "slide_type": "fragment"
    }
   },
   "source": [
    "We consider the following production function:\n",
    "\n",
    "\n",
    "$$Y_t = (AX)^\\alpha L_t^{1-\\alpha}\\label{eq1}\\tag{1}$$\n",
    "\n",
    "where\n",
    "\n",
    "* $Y_t$ is output in period t\n",
    "* $L_t$ is population in period t (growing at rate n)\n",
    "* $A$ is technology (fixed)\n",
    "* $X$ is land (fixed)\n",
    "\n",
    "Hence, output per capita is defined as:\n",
    "\n",
    "$$Y_t/L_t = y_t = (AX/L_t)^\\alpha\\label{eq2}\\tag{2}$$\n",
    "\n",
    "implying decreasing returns to land, i.e., $\\frac{\\partial y}{\\partial L}<0$\n",
    "\n",
    "\n",
    "We assume that household live for two periods. In period 2, they work and receive income y which they can spend on either conumption (c) or having children (n). Household preferences are as follows:\n",
    "\n",
    "$$U(c_t, n_t)=(1-\\gamma) ln(c_t) + \\gamma ln(n_t)\\label{eq3}\\tag{3}$$\n",
    "\n",
    "The budget constraint is given by:\n",
    "\n",
    "$$y_t = c_t + \\rho n_t\\label{eq4}\\tag{4}$$\n",
    "\n",
    "where $\\rho$ is the price of having children relative to consumption"
   ]
  },
  {
   "cell_type": "markdown",
   "metadata": {
    "slideshow": {
     "slide_type": "slide"
    }
   },
   "source": [
    "## Solving the Model"
   ]
  },
  {
   "cell_type": "markdown",
   "metadata": {
    "slideshow": {
     "slide_type": "fragment"
    }
   },
   "source": [
    "### We start by optimizing the household's utility subject to the budget constraint\n",
    "We start out by defining the model parameters and variables using `sympy`. Furthermore, we write up the utility function, $U(c_t,n_t)$, and define the steady states."
   ]
  },
  {
   "cell_type": "code",
   "execution_count": 2,
   "metadata": {
    "slideshow": {
     "slide_type": "fragment"
    }
   },
   "outputs": [
    {
     "data": {
      "text/latex": [
       "$\\displaystyle U^{\\star} = \\gamma \\log{\\left(n \\right)} + \\left(1 - \\gamma\\right) \\log{\\left(c \\right)}$"
      ],
      "text/plain": [
       "Eq(U^\\star, gamma*log(n) + (1 - gamma)*log(c))"
      ]
     },
     "execution_count": 2,
     "metadata": {},
     "output_type": "execute_result"
    }
   ],
   "source": [
    "# a. variables\n",
    "Y = sm.symbols('Y')\n",
    "A = sm.symbols('A')\n",
    "L = sm.symbols('L')\n",
    "y = sm.symbols('y')\n",
    "X = sm.symbols('X')\n",
    "U = sm.symbols('U')\n",
    "c = sm.symbols('c')\n",
    "n = sm.symbols('n')\n",
    "lt_1= sm.symbols('L_{t+1}')\n",
    "lt= sm.symbols('L_t')\n",
    "\n",
    "# b. parameters\n",
    "alpha = sm.symbols('alpha')\n",
    "gamma = sm.symbols('gamma')\n",
    "rho = sm.symbols('rho')\n",
    "\n",
    "# c. steady states\n",
    "pstar = sm.symbols('P^\\star')\n",
    "lstar = sm.symbols('L^\\star')\n",
    "ystar = sm.symbols('y^\\star')\n",
    "ustar = sm.symbols('U^\\star')\n",
    "\n",
    "# d. utility function\n",
    "U = (1-gamma)*sm.ln(c)+gamma*sm.ln(n)\n",
    "sm.Eq(ustar,U)"
   ]
  },
  {
   "cell_type": "markdown",
   "metadata": {
    "slideshow": {
     "slide_type": "slide"
    }
   },
   "source": [
    "***\n",
    "**Next, we determine how households optimally divide their income between consumption and having offspring**\n",
    "*** \n",
    "    \n",
    "After doing the preliminary work with defining the variables and parameters as well as the utility function we create an object, $t1$, from the class 'Modelproject' and the household problem using the parameters stated in the class:"
   ]
  },
  {
   "cell_type": "code",
   "execution_count": 3,
   "metadata": {
    "slideshow": {
     "slide_type": "fragment"
    }
   },
   "outputs": [
    {
     "name": "stdout",
     "output_type": "stream",
     "text": [
      " (1-gamma) %: 30.001\n",
      " gamma/rho %: 63.636\n"
     ]
    }
   ],
   "source": [
    "t1 = Modelproject() # calls the class\n",
    "t1.solve() # solves the model\n",
    "print(f' (1-gamma) %: {round(t1.c,3)}') # displays optimal consumption\n",
    "print(f' gamma/rho %: {round(t1.n,3)}') # displays the optimal number of children"
   ]
  },
  {
   "cell_type": "markdown",
   "metadata": {
    "slideshow": {
     "slide_type": "fragment"
    }
   },
   "source": [
    "We find that housholds optimally spend fraction $(1-\\gamma) = 30.00$ of their income on consumption, and fraction $\\gamma/\\rho = 63.636$ on offspring. "
   ]
  },
  {
   "cell_type": "markdown",
   "metadata": {
    "slideshow": {
     "slide_type": "slide"
    }
   },
   "source": [
    "### In the next step, we are determining the population and population density in steady state"
   ]
  },
  {
   "cell_type": "markdown",
   "metadata": {
    "slideshow": {
     "slide_type": "fragment"
    }
   },
   "source": [
    "The population evolves as follows:\n",
    "\n",
    "$$L_{t+1} = n_t L_t\\label{eq5}\\tag{5}$$\n",
    "\n",
    "Inserting the optimality condition for population growth, $n_t$, into the equation yields:\n",
    "\n",
    "$$L_{t+1} = \\frac{\\gamma}{\\rho}(AX)^\\alpha L_t^{1-\\alpha}\\label{eq6}\\tag{6}$$\n",
    "\n",
    "Using (\\ref{eq6}) we solve for the population in steady state by setting $L_{t+1}=L_t=L$ and isolate $L$:"
   ]
  },
  {
   "cell_type": "markdown",
   "metadata": {
    "slideshow": {
     "slide_type": "slide"
    }
   },
   "source": [
    "***\n",
    "**Population and population density in steady state (analytical solution)**\n",
    "***"
   ]
  },
  {
   "cell_type": "code",
   "execution_count": 4,
   "metadata": {
    "slideshow": {
     "slide_type": "fragment"
    }
   },
   "outputs": [
    {
     "data": {
      "text/latex": [
       "$\\displaystyle L^{\\star} = \\left(\\frac{\\gamma \\left(A X\\right)^{\\alpha}}{\\rho}\\right)^{\\frac{1}{\\alpha}}$"
      ],
      "text/plain": [
       "Eq(L^\\star, (gamma*(A*X)**alpha/rho)**(1/alpha))"
      ]
     },
     "execution_count": 4,
     "metadata": {},
     "output_type": "execute_result"
    }
   ],
   "source": [
    "# a. define equation (6) in steady state, i.e., L_t+1 = L_t = L\n",
    "ss = sm.Eq(L, (((gamma/rho)*(A*X)**alpha)*(L**(1-alpha))))\n",
    "\n",
    "# b. isolate L and print population in steady state\n",
    "pss = sm.solve(ss, L)[0]\n",
    "sm.Eq(lstar,pss)"
   ]
  },
  {
   "cell_type": "markdown",
   "metadata": {
    "slideshow": {
     "slide_type": "slide"
    }
   },
   "source": [
    "Population density is defined as $P_{t+1}=\\frac{L_{t+1}}{X} = \\frac{\\gamma}{\\rho}(A)^\\alpha \\cdot (XL_t)^{1-\\alpha} \\Rightarrow P^*=\\frac{L^*}{X}$. \n",
    "\n",
    "We therefore divide the steady state population with $X$ and write up the population density in steady state, $P^*$:"
   ]
  },
  {
   "cell_type": "code",
   "execution_count": 5,
   "metadata": {
    "slideshow": {
     "slide_type": "fragment"
    }
   },
   "outputs": [
    {
     "data": {
      "text/latex": [
       "$\\displaystyle P^{\\star} = \\frac{\\left(\\frac{\\gamma \\left(A X\\right)^{\\alpha}}{\\rho}\\right)^{\\frac{1}{\\alpha}}}{X}$"
      ],
      "text/plain": [
       "Eq(P^\\star, (gamma*(A*X)**alpha/rho)**(1/alpha)/X)"
      ]
     },
     "execution_count": 5,
     "metadata": {},
     "output_type": "execute_result"
    }
   ],
   "source": [
    "# a. define population density in steady state\n",
    "P = pss/X\n",
    "\n",
    "# b. determine the steady state level of population density\n",
    "sm.Eq(pstar,P)"
   ]
  },
  {
   "cell_type": "markdown",
   "metadata": {
    "slideshow": {
     "slide_type": "slide"
    }
   },
   "source": [
    "***\n",
    "**Population and population density in steady state (numerical solution)** \n",
    "*** \n",
    "We now want to find the population number in steady state. We use the bisection algorithm which is a derivative free method of finding the roots of a function, i.e. $x_0\\in[a,b]$ such that $f(x_0)=0$. The logic behind the algorithm is such that we start with a big interval that we know contains the desired value, $x_0$. We then reduce this interval successively. If the function, $f$ is continuous and takes on values between $f(a)$ and $f(b)$ at the lower and upper bound respectively, then $f$ will take on values between $f(a)$ and $f(b)$ in the interval $[a,b]$. Hence, if $f(a)<\\gamma<f(b)$ then it must be the case that there exists some $c\\in[a,b]$ such that $f(c)=\\gamma$.\n",
    "\n",
    "We start off by ensuring that the function value evaluated at each of the two bounds are not the same. If this were not the case then the interval would not contain a root.\n",
    "\n",
    "The algorithm goes as follows:\n",
    "1. Set $a_0=a$ and $b_0=b$ and make sure that $f(a_0)$ and $f(b_0)$ have opposite signs. \n",
    "2. Compute the function value at the midpoint: $f(m_0)$ where $m_0=\\frac{a_0+b_0}{2}$ is the midpoint\n",
    "3. Determine the sub-intervals:\n",
    "* If $\\text{sign}(f(a_0)) ≠ \\text{sign}f(m_0)$ then $a_1=a_0$ and $b_1=m_0$.\n",
    "* If $\\text{sign}(f(m_0)) ≠ \\text{sign}f(b_0)$ then $a_1=m_0$ and $b_1=b_0$.\n",
    "4. Repeat step 2 and 3 until $f(m_n)<\\varepsilon$."
   ]
  },
  {
   "cell_type": "code",
   "execution_count": 11,
   "metadata": {
    "scrolled": true,
    "slideshow": {
     "slide_type": "slide"
    }
   },
   "outputs": [
    {
     "name": "stdout",
     "output_type": "stream",
     "text": [
      "Steady state level of population for given parameter values is: L*= 64.425\n",
      "The population density in steady state for given parameter values is 6.443\n"
     ]
    }
   ],
   "source": [
    "# a. upper and lower limit have same sign\n",
    "def samesign(a, b):\n",
    "        return a * b > 0\n",
    "\n",
    "\n",
    "# b. create the bisection algorithm\n",
    "def bisect(func, low, high):\n",
    "    # set tolerance level\n",
    "    tol = 1e-6\n",
    "    \n",
    "    # step 1: Assertain that the function evaluated at the lower and upper bound respectively have different signs\n",
    "    assert not samesign(func(low), func(high))\n",
    "    \n",
    "    # step 2: Compute the mid-point \n",
    "    for i in range(100):\n",
    "        midpoint = (low + high) / 2.0\n",
    "        fm=func(midpoint)\n",
    "        # step 3: Determine sub-intervals\n",
    "        if abs(fm) < tol:\n",
    "            break\n",
    "        elif samesign(func(low), func(midpoint)):\n",
    "            low = midpoint\n",
    "        else:\n",
    "            high = midpoint\n",
    "    return midpoint\n",
    "\n",
    "# d. define function and the parameter values\n",
    "def f(L, gamma=0.7, rho=1.1, A=25, X=10, alpha=1/3):\n",
    "        return L-((gamma/rho)*(A*X)**alpha)*(L**(1-alpha))\n",
    "\n",
    "# e. run the algorithm with f being the function, the lower bound being 0.1 and the upper bound being 1000\n",
    "L = bisect(f, 0.1, 1000)\n",
    "print(f'Steady state level of population for given parameter values is: L*=', round(L,3))\n",
    "\n",
    "# f. find the population density in steady state X= 1\n",
    "print(f'The population density in steady state for given parameter values is {round(L/10,3)}')"
   ]
  },
  {
   "cell_type": "markdown",
   "metadata": {
    "slideshow": {
     "slide_type": "fragment"
    }
   },
   "source": [
    "Hence, we find that the steady state level of labor is 64.425 and a population density of 6.443."
   ]
  },
  {
   "cell_type": "markdown",
   "metadata": {
    "slideshow": {
     "slide_type": "slide"
    }
   },
   "source": [
    "We can do the same as above using `scipy` and arrive at the same result:"
   ]
  },
  {
   "cell_type": "code",
   "execution_count": 7,
   "metadata": {
    "slideshow": {
     "slide_type": "fragment"
    }
   },
   "outputs": [
    {
     "name": "stdout",
     "output_type": "stream",
     "text": [
      "Steady state population for given parameter values is: 64.425\n",
      "The population density in steady state for given parameter values is 6.443\n"
     ]
    }
   ],
   "source": [
    "# a. call bisect optimzer from .py file and print population steady state\n",
    "print(f'Steady state population for given parameter values is: {bisect_ss_l(0.1,500):.3f}')\n",
    "\n",
    "# b. find the population density in steady state\n",
    "print(f'The population density in steady state for given parameter values is {bisect_ss_l(0.1,500)/10:.3f}')"
   ]
  },
  {
   "cell_type": "markdown",
   "metadata": {
    "slideshow": {
     "slide_type": "fragment"
    }
   },
   "source": [
    "Hence, we find, again that the steady state level of population for given the parameter values is 64.425 and that the population density is 6.443."
   ]
  },
  {
   "cell_type": "markdown",
   "metadata": {
    "slideshow": {
     "slide_type": "slide"
    }
   },
   "source": [
    "## Next, we are going to analyze the impact of an exogenous increase in the technology level $A$ on population and population density in steady state"
   ]
  },
  {
   "cell_type": "code",
   "execution_count": 8,
   "metadata": {
    "slideshow": {
     "slide_type": "fragment"
    }
   },
   "outputs": [
    {
     "data": {
      "text/latex": [
       "$\\displaystyle \\frac{\\left(\\frac{\\gamma \\left(A X\\right)^{\\alpha}}{\\rho}\\right)^{\\frac{1}{\\alpha}}}{A}$"
      ],
      "text/plain": [
       "(gamma*(A*X)**alpha/rho)**(1/alpha)/A"
      ]
     },
     "execution_count": 8,
     "metadata": {},
     "output_type": "execute_result"
    }
   ],
   "source": [
    "# a. differentiate population in steady state with respect to A\n",
    "pss_diff = sm.diff(pss, A)\n",
    "\n",
    "# b. display differentiated population\n",
    "pss_diff"
   ]
  },
  {
   "cell_type": "markdown",
   "metadata": {
    "slideshow": {
     "slide_type": "fragment"
    }
   },
   "source": [
    "We can see that an increase in A increases the steady state population."
   ]
  },
  {
   "cell_type": "code",
   "execution_count": 9,
   "metadata": {
    "slideshow": {
     "slide_type": "fragment"
    }
   },
   "outputs": [
    {
     "data": {
      "text/latex": [
       "$\\displaystyle \\frac{\\left(\\frac{\\gamma \\left(A X\\right)^{\\alpha}}{\\rho}\\right)^{\\frac{1}{\\alpha}}}{A X}$"
      ],
      "text/plain": [
       "(gamma*(A*X)**alpha/rho)**(1/alpha)/(A*X)"
      ]
     },
     "execution_count": 9,
     "metadata": {},
     "output_type": "execute_result"
    }
   ],
   "source": [
    "# a. differentiate population density in steady state with respect to A\n",
    "P_diff = sm.diff(P,A)\n",
    "\n",
    "# b. display differentiated population density\n",
    "P_diff"
   ]
  },
  {
   "cell_type": "markdown",
   "metadata": {
    "slideshow": {
     "slide_type": "fragment"
    }
   },
   "source": [
    "We can see that an increase in A also increases steady state population density."
   ]
  },
  {
   "cell_type": "markdown",
   "metadata": {
    "slideshow": {
     "slide_type": "slide"
    }
   },
   "source": [
    "## In the following, we create a plot of the Malthus model"
   ]
  },
  {
   "cell_type": "code",
   "execution_count": 10,
   "metadata": {
    "slideshow": {
     "slide_type": "fragment"
    }
   },
   "outputs": [
    {
     "data": {
      "application/vnd.jupyter.widget-view+json": {
       "model_id": "7c74c529ff0a4edb92e484db4c9374b2",
       "version_major": 2,
       "version_minor": 0
      },
      "text/plain": [
       "interactive(children=(FloatSlider(value=0.7, description='$\\\\gamma$', max=0.99, step=0.05), FloatSlider(value=…"
      ]
     },
     "metadata": {},
     "output_type": "display_data"
    }
   ],
   "source": [
    "simulate_malthus(\"pop\")"
   ]
  }
 ],
 "metadata": {
  "celltoolbar": "Slideshow",
  "kernelspec": {
   "display_name": "Python 3 (ipykernel)",
   "language": "python",
   "name": "python3"
  },
  "language_info": {
   "codemirror_mode": {
    "name": "ipython",
    "version": 3
   },
   "file_extension": ".py",
   "mimetype": "text/x-python",
   "name": "python",
   "nbconvert_exporter": "python",
   "pygments_lexer": "ipython3",
   "version": "3.9.7"
  },
  "toc-autonumbering": true
 },
 "nbformat": 4,
 "nbformat_minor": 4
}
