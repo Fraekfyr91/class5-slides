{
 "cells": [
  {
   "cell_type": "markdown",
   "id": "b7e8ae2f-fbf6-4bce-a7d1-be1e44811738",
   "metadata": {},
   "source": [
    "# Introduction to Programming and Numerical Analysis\n",
    "- Workshop 1 - 3\n",
    "\n"
   ]
  },
  {
   "cell_type": "markdown",
   "id": "3bb72c57-39ca-40dc-be3f-1bf68686cfe5",
   "metadata": {},
   "source": [
    "# I am Lasse and i will be our T.A."
   ]
  },
  {
   "cell_type": "markdown",
   "id": "6f460bcf-249e-4f87-a45b-b520c2458f56",
   "metadata": {},
   "source": [
    "# Python instaltions\n",
    "- python 3\n",
    "- anaconda \n",
    "- jupyterLab \n",
    "- jypyterLab git extention\n",
    "- jubyterlab variable Inspector\n"
   ]
  },
  {
   "cell_type": "markdown",
   "id": "25ae44e8-0a65-4796-aa35-f1874ff352ab",
   "metadata": {},
   "source": [
    "# Github connection "
   ]
  },
  {
   "cell_type": "code",
   "execution_count": 1,
   "id": "87a331fa-9efc-4361-b075-2a036163bf1a",
   "metadata": {},
   "outputs": [],
   "source": [
    "# git extention\n",
    "#conda install -c conda-forge jupyterlab jupyterlab-git"
   ]
  },
  {
   "cell_type": "markdown",
   "id": "346dc93c-a57e-4e6b-80d3-7e7c46849152",
   "metadata": {},
   "source": [
    "# variable inspector"
   ]
  },
  {
   "cell_type": "code",
   "execution_count": 2,
   "id": "d0f63b86-1f20-4861-a247-a5262fb7550f",
   "metadata": {},
   "outputs": [],
   "source": [
    "# variable inspector\n",
    "#conda install -c conda-forge jupyterlab-variableinspector"
   ]
  },
  {
   "cell_type": "markdown",
   "id": "8c6b8ecd-c756-42d4-8a7d-b2bcd6374082",
   "metadata": {},
   "source": [
    "# Datacamp"
   ]
  },
  {
   "cell_type": "markdown",
   "id": "d79343eb-f6f2-4578-a8cc-f24467258606",
   "metadata": {},
   "source": [
    "# Introduction to Python\n",
    "- Basic operations\n",
    "- Comments\n",
    "- print()\n",
    "- Type - floats ints strings bools\n",
    "- list\n",
    "- list operations\n",
    "- built-in functions\n",
    "- import modules\n",
    "- numpy arrays\n",
    "- statistics"
   ]
  },
  {
   "cell_type": "markdown",
   "id": "c2727b4d-d7fa-40d9-922a-2941d1444645",
   "metadata": {},
   "source": [
    "# Intermediate Python\n",
    "- matplotlib \n",
    "- dictionaries\n",
    "- Pandas\n",
    "- csv\n",
    "- comparison operators < > ==\n",
    "- and, or, not\n",
    "- if, elif else\n",
    "- while loops\n",
    "- for loops\n",
    "- append\n",
    "- random numbers"
   ]
  },
  {
   "cell_type": "markdown",
   "id": "b0f25148-a9f6-4806-8634-f10efc4bf960",
   "metadata": {},
   "source": [
    "# Introduction to Git\n",
    "- state\n",
    "- diff\n",
    "- commit\n",
    "- repositories\n",
    "- log\n",
    "- add\n",
    "- configurations\n",
    "- undo\n",
    "- branch\n",
    "- merge\n",
    "- collaborating\n",
    "- push \n",
    "- pull"
   ]
  },
  {
   "cell_type": "markdown",
   "id": "d950566b-dc4f-4624-8c54-d219f436abf3",
   "metadata": {},
   "source": [
    "# Python Data Science Toolbox (Part 1)\n",
    "- functions\n",
    "- nested functions\n",
    "- Lambda functions\n",
    "- Map()\n",
    "- Filter()\n",
    "- Reduce()\n",
    "- errors"
   ]
  }
 ],
 "metadata": {
  "kernelspec": {
   "display_name": "Python 3 (ipykernel)",
   "language": "python",
   "name": "python3"
  },
  "language_info": {
   "codemirror_mode": {
    "name": "ipython",
    "version": 3
   },
   "file_extension": ".py",
   "mimetype": "text/x-python",
   "name": "python",
   "nbconvert_exporter": "python",
   "pygments_lexer": "ipython3",
   "version": "3.9.7"
  }
 },
 "nbformat": 4,
 "nbformat_minor": 5
}
