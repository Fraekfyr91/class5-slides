{
 "cells": [
  {
   "cell_type": "markdown",
   "id": "b7e8ae2f-fbf6-4bce-a7d1-be1e44811738",
   "metadata": {},
   "source": [
    "# Introduction to Programming and Numerical Analysis\n",
    "- Workshop 1.\n",
    "\n"
   ]
  },
  {
   "cell_type": "markdown",
   "id": "3bb72c57-39ca-40dc-be3f-1bf68686cfe5",
   "metadata": {},
   "source": [
    "# I am Lasse and i will be our T.A."
   ]
  },
  {
   "cell_type": "markdown",
   "id": "6f460bcf-249e-4f87-a45b-b520c2458f56",
   "metadata": {},
   "source": [
    "# Python instaltions\n",
    "- python 3\n",
    "- anaconda \n",
    "- jupyterLab \n",
    "- jypyterLab git extention"
   ]
  },
  {
   "cell_type": "markdown",
   "id": "25ae44e8-0a65-4796-aa35-f1874ff352ab",
   "metadata": {},
   "source": [
    "# Github connection "
   ]
  },
  {
   "cell_type": "code",
   "execution_count": null,
   "id": "87a331fa-9efc-4361-b075-2a036163bf1a",
   "metadata": {},
   "outputs": [],
   "source": []
  },
  {
   "cell_type": "markdown",
   "id": "8c6b8ecd-c756-42d4-8a7d-b2bcd6374082",
   "metadata": {},
   "source": [
    "# Datacamp"
   ]
  },
  {
   "cell_type": "markdown",
   "id": "d79343eb-f6f2-4578-a8cc-f24467258606",
   "metadata": {},
   "source": [
    "# Introduction to Python\n",
    "- Basic operations\n",
    "- Comments\n",
    "- print()\n",
    "- Type - floats ints strings bools\n",
    "- list\n",
    "- list operations\n",
    "- built-in functions\n",
    "- import modules\n",
    "- numpy arrays\n",
    "- statistics"
   ]
  },
  {
   "cell_type": "markdown",
   "id": "c2727b4d-d7fa-40d9-922a-2941d1444645",
   "metadata": {},
   "source": [
    "# Intermediate Python\n",
    "- matplotlib "
   ]
  },
  {
   "cell_type": "code",
   "execution_count": null,
   "id": "24375f64-5b06-4f4a-8341-2c20254f850b",
   "metadata": {},
   "outputs": [],
   "source": []
  }
 ],
 "metadata": {
  "kernelspec": {
   "display_name": "Python 3 (ipykernel)",
   "language": "python",
   "name": "python3"
  },
  "language_info": {
   "codemirror_mode": {
    "name": "ipython",
    "version": 3
   },
   "file_extension": ".py",
   "mimetype": "text/x-python",
   "name": "python",
   "nbconvert_exporter": "python",
   "pygments_lexer": "ipython3",
   "version": "3.9.7"
  }
 },
 "nbformat": 4,
 "nbformat_minor": 5
}
