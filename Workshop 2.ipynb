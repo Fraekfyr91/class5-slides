{
 "cells": [
  {
   "cell_type": "markdown",
   "id": "4198b931",
   "metadata": {
    "slideshow": {
     "slide_type": "slide"
    }
   },
   "source": [
    "# Introduction to Programming and Numerical Analysis\n",
    "- Workshop 2\n",
    "\n"
   ]
  },
  {
   "cell_type": "markdown",
   "id": "3b2eb323",
   "metadata": {
    "slideshow": {
     "slide_type": "slide"
    }
   },
   "source": [
    "# Last time:\n",
    "- Installations\n",
    "- DataCamp"
   ]
  },
  {
   "cell_type": "markdown",
   "id": "3d772bd7",
   "metadata": {
    "slideshow": {
     "slide_type": "slide"
    }
   },
   "source": [
    "# This time\n",
    "- VScode\n",
    "- Resources\n",
    "- DataCamp"
   ]
  },
  {
   "cell_type": "markdown",
   "id": "483fcfc3",
   "metadata": {
    "slideshow": {
     "slide_type": "slide"
    }
   },
   "source": [
    "- Try to follow the instructions from course web site\n",
    "- Obs on windows Select Default Shell = Select Default Profile"
   ]
  },
  {
   "cell_type": "markdown",
   "id": "6629fccf",
   "metadata": {
    "slideshow": {
     "slide_type": "slide"
    }
   },
   "source": [
    "# The greatest thing about python\n",
    "## Every one of your questions is already answered\n",
    "- Google as much as you can!!!\n",
    "- Look at stack owerflow for answers\n",
    "- Example: how to subset a list in python\n"
   ]
  },
  {
   "cell_type": "markdown",
   "id": "823b3df3",
   "metadata": {
    "slideshow": {
     "slide_type": "slide"
    }
   },
   "source": [
    "# Extra assignment\n",
    "- Try download the slides by using the terminal"
   ]
  },
  {
   "cell_type": "code",
   "execution_count": null,
   "id": "85768388",
   "metadata": {
    "slideshow": {
     "slide_type": "slide"
    }
   },
   "outputs": [],
   "source": []
  }
 ],
 "metadata": {
  "celltoolbar": "Slideshow",
  "kernelspec": {
   "display_name": "Python 3 (ipykernel)",
   "language": "python",
   "name": "python3"
  },
  "language_info": {
   "codemirror_mode": {
    "name": "ipython",
    "version": 3
   },
   "file_extension": ".py",
   "mimetype": "text/x-python",
   "name": "python",
   "nbconvert_exporter": "python",
   "pygments_lexer": "ipython3",
   "version": "3.9.7"
  }
 },
 "nbformat": 4,
 "nbformat_minor": 5
}
